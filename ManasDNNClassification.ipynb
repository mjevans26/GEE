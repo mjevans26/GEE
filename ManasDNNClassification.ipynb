{
  "nbformat": 4,
  "nbformat_minor": 0,
  "metadata": {
    "colab": {
      "name": "ManasDNNClassification.ipynb",
      "provenance": [],
      "toc_visible": true,
      "authorship_tag": "ABX9TyNBUUI4aweXeQOHqFO/zouE",
      "include_colab_link": true
    },
    "kernelspec": {
      "name": "python3",
      "display_name": "Python 3"
    },
    "accelerator": "GPU"
  },
  "cells": [
    {
      "cell_type": "markdown",
      "metadata": {
        "id": "view-in-github",
        "colab_type": "text"
      },
      "source": [
        "<a href=\"https://colab.research.google.com/github/mjevans26/GEE/blob/master/ManasDNNClassification.ipynb\" target=\"_parent\"><img src=\"https://colab.research.google.com/assets/colab-badge.svg\" alt=\"Open In Colab\"/></a>"
      ]
    },
    {
      "cell_type": "markdown",
      "metadata": {
        "id": "xP1XS1oVkFj0"
      },
      "source": [
        "# DNN Land Cover Classification\r\n",
        "\r\n",
        "This is a Notebook demonstrating GEE and Tensorflow code to train a deep neural network classifier that can predict land cover classes in Manas National Park, India based on Sentinel-2 data.\r\n",
        "\r\n",
        "@author Michael Evans"
      ]
    },
    {
      "cell_type": "code",
      "metadata": {
        "id": "PeyLHxg4ilFb"
      },
      "source": [
        "# !pip install earthengine-api --upgrade"
      ],
      "execution_count": null,
      "outputs": []
    },
    {
      "cell_type": "code",
      "metadata": {
        "id": "kYI7L6epLnmd"
      },
      "source": [
        "!pip install rasterio\r\n"
      ],
      "execution_count": null,
      "outputs": []
    },
    {
      "cell_type": "code",
      "metadata": {
        "id": "1r288bnNLbyB"
      },
      "source": [
        "from google.colab import auth, drive\r\n",
        "import numpy as np\r\n",
        "import tensorflow as tf\r\n",
        "from tensorflow.keras import models\r\n",
        "from tensorflow.keras import metrics\r\n",
        "import rasterio as rio\r\n",
        "import json\r\n",
        "from os.path import join, basename\r\n",
        "import folium\r\n",
        "from datetime import datetime\r\n",
        "from sklearn.utils import compute_class_weight\r\n",
        "import matplotlib as plt"
      ],
      "execution_count": null,
      "outputs": []
    },
    {
      "cell_type": "code",
      "metadata": {
        "id": "-DfKiGmEMcMi"
      },
      "source": [
        "# Cloud authentication.\r\n",
        "auth.authenticate_user()"
      ],
      "execution_count": null,
      "outputs": []
    },
    {
      "cell_type": "code",
      "metadata": {
        "id": "cnDeL-_GMaFh",
        "colab": {
          "base_uri": "https://localhost:8080/"
        },
        "outputId": "be14b87b-2190-4e52-da34-25dd0011dfac"
      },
      "source": [
        "# Import, authenticate and initialize the Earth Engine library.\r\n",
        "import ee\r\n",
        "ee.Authenticate()\r\n",
        "ee.Initialize()"
      ],
      "execution_count": null,
      "outputs": [
        {
          "output_type": "stream",
          "text": [
            "To authorize access needed by Earth Engine, open the following URL in a web browser and follow the instructions. If the web browser does not start automatically, please manually browse the URL below.\n",
            "\n",
            "    https://accounts.google.com/o/oauth2/auth?client_id=517222506229-vsmmajv00ul0bs7p89v5m89qs8eb9359.apps.googleusercontent.com&scope=https%3A%2F%2Fwww.googleapis.com%2Fauth%2Fearthengine+https%3A%2F%2Fwww.googleapis.com%2Fauth%2Fdevstorage.full_control&redirect_uri=urn%3Aietf%3Awg%3Aoauth%3A2.0%3Aoob&response_type=code&code_challenge=BpHS5jvotRMGzWuXYojWxj3-lU9js0da6BlGEI9Swek&code_challenge_method=S256\n",
            "\n",
            "The authorization workflow will generate a code, which you should paste in the box below. \n",
            "Enter verification code: 4/1AY0e-g7eyMvQfsfGgF43D64rMby3ev-adax9oejSPnMK96OwDyxWdVlhGMA\n",
            "\n",
            "Successfully saved authorization token.\n"
          ],
          "name": "stdout"
        }
      ]
    },
    {
      "cell_type": "code",
      "metadata": {
        "id": "ANd2mSqq_Bje",
        "colab": {
          "base_uri": "https://localhost:8080/"
        },
        "outputId": "06392bfa-50f4-4e8c-b4d8-572806e7362e"
      },
      "source": [
        "# mount google drive\r\n",
        "drive.mount('/content/MyDrive')"
      ],
      "execution_count": null,
      "outputs": [
        {
          "output_type": "stream",
          "text": [
            "Mounted at /content/MyDrive\n"
          ],
          "name": "stdout"
        }
      ]
    },
    {
      "cell_type": "code",
      "metadata": {
        "id": "1tKtL9l1Mkf-"
      },
      "source": [
        "# Define a method for displaying Earth Engine image tiles to a folium map.\r\n",
        "def add_ee_layer(self, ee_image_object, vis_params, name):\r\n",
        "  map_id_dict = ee.Image(ee_image_object).getMapId(vis_params)\r\n",
        "  folium.raster_layers.TileLayer(\r\n",
        "    tiles = map_id_dict['tile_fetcher'].url_format,\r\n",
        "    attr = \"Map Data © Google Earth Engine\",\r\n",
        "    name = name,\r\n",
        "    overlay = True,\r\n",
        "    control = True\r\n",
        "  ).add_to(self)\r\n",
        "\r\n",
        "# Add EE drawing method to folium.\r\n",
        "folium.Map.add_ee_layer = add_ee_layer"
      ],
      "execution_count": null,
      "outputs": []
    },
    {
      "cell_type": "code",
      "metadata": {
        "id": "KzNsXXI_MwDA"
      },
      "source": [
        "bands = ['B2', 'B3', 'B4', 'B8', 'B11', 'B12']\r\n",
        "RESPONSE = 'class_num'\r\n",
        "\r\n",
        "BANDS = [[band, band + '_1', band + '_2', band + '_3'] for band in bands]\r\n",
        "FEATURES = [item for sublist in BANDS for item in sublist] + [RESPONSE]\r\n",
        "\r\n",
        "KERNEL_SIZE = 256\r\n",
        "KERNEL_SHAPE = [KERNEL_SIZE, KERNEL_SIZE]\r\n",
        "PATCH_SIZE = KERNEL_SIZE**2\r\n",
        "\r\n",
        "COLUMNS = [tf.io.FixedLenFeature(shape = [1], dtype = tf.float32) for feature in FEATURES]\r\n",
        "FEATURES_DICT = dict(zip(FEATURES, COLUMNS))\r\n",
        "\r\n",
        "BATCH = 16\r\n",
        "BUFFER = 500"
      ],
      "execution_count": null,
      "outputs": []
    },
    {
      "cell_type": "markdown",
      "metadata": {
        "id": "V8zRFi4ZGMFd"
      },
      "source": [
        "## GEE"
      ]
    },
    {
      "cell_type": "markdown",
      "metadata": {
        "id": "L8O4MrYzGNAi"
      },
      "source": [
        "### Assets"
      ]
    },
    {
      "cell_type": "code",
      "metadata": {
        "id": "5b8ojSLkzF80"
      },
      "source": [
        "# Bring in GEE Assets\r\n",
        "geometry = ee.Geometry.Polygon(\r\n",
        "        [[[90.82344697523781, 26.738600672068177],\r\n",
        "          [90.82344697523781, 26.673580632363688],\r\n",
        "          [90.93262361098, 26.673580632363688],\r\n",
        "          [90.93262361098, 26.738600672068177]]], None, False)\r\n",
        "\r\n",
        "S2 = ee.ImageCollection(\"COPERNICUS/S2\")\r\n",
        "boundary = ee.FeatureCollection(\"users/defendersofwildlifeGIS/Manas/park_boundary\")\r\n",
        "table = ee.FeatureCollection(\"users/defendersofwildlifeGIS/Manas/WWF_groundtruth\")\r\n",
        "water19 = ee.FeatureCollection(\r\n",
        "        [ee.Feature(\r\n",
        "            ee.Geometry.Point([90.97610822107781, 26.719111197026088]),\r\n",
        "            {\r\n",
        "              \"class\": \"River / water\",\r\n",
        "              \"system:index\": \"0\"\r\n",
        "            }),\r\n",
        "        ee.Feature(\r\n",
        "            ee.Geometry.Point([90.96907010462273, 26.721066158480355]),\r\n",
        "            {\r\n",
        "              \"class\": \"River / water\",\r\n",
        "              \"system:index\": \"1\"\r\n",
        "            }),\r\n",
        "        ee.Feature(\r\n",
        "            ee.Geometry.Point([90.98254552271355, 26.676093553006698]),\r\n",
        "            {\r\n",
        "              \"class\": \"River / water\",\r\n",
        "              \"system:index\": \"2\"\r\n",
        "            }),\r\n",
        "        ee.Feature(\r\n",
        "            ee.Geometry.Point([90.97653737452019, 26.66021663154497]),\r\n",
        "            {\r\n",
        "              \"class\": \"River / water\",\r\n",
        "              \"system:index\": \"3\"\r\n",
        "            }),\r\n",
        "        ee.Feature(\r\n",
        "            ee.Geometry.Point([90.66302329393157, 26.769465871927885]),\r\n",
        "            {\r\n",
        "              \"class\": \"River / water\",\r\n",
        "              \"system:index\": \"4\"\r\n",
        "            }),\r\n",
        "        ee.Feature(\r\n",
        "            ee.Geometry.Point([90.66699296327361, 26.77122839121633]),\r\n",
        "            {\r\n",
        "              \"class\": \"River / water\",\r\n",
        "              \"system:index\": \"5\"\r\n",
        "            }),\r\n",
        "        ee.Feature(\r\n",
        "            ee.Geometry.Point([90.95303411239483, 26.775168139072722]),\r\n",
        "            {\r\n",
        "              \"class\": \"River / water\",\r\n",
        "              \"system:index\": \"6\"\r\n",
        "            }),\r\n",
        "        ee.Feature(\r\n",
        "            ee.Geometry.Point([90.95559316153376, 26.78053850572255]),\r\n",
        "            {\r\n",
        "              \"class\": \"River / water\",\r\n",
        "              \"system:index\": \"7\"\r\n",
        "            }),\r\n",
        "        ee.Feature(\r\n",
        "            ee.Geometry.Point([91.0800661572924, 26.68540031781873]),\r\n",
        "            {\r\n",
        "              \"class\": \"River / water\",\r\n",
        "              \"system:index\": \"8\"\r\n",
        "            })])\r\n",
        "riverbed19 = ee.FeatureCollection(\r\n",
        "        [ee.Feature(\r\n",
        "            ee.Geometry.Point([90.97505232717339, 26.72105388768015]),\r\n",
        "            {\r\n",
        "              \"class\": \"Dry river bed\",\r\n",
        "              \"system:index\": \"0\"\r\n",
        "            }),\r\n",
        "        ee.Feature(\r\n",
        "            ee.Geometry.Point([90.97530981923882, 26.715035564941704]),\r\n",
        "            {\r\n",
        "              \"class\": \"Dry river bed\",\r\n",
        "              \"system:index\": \"1\"\r\n",
        "            }),\r\n",
        "        ee.Feature(\r\n",
        "            ee.Geometry.Point([90.97513815786186, 26.698857349935267]),\r\n",
        "            {\r\n",
        "              \"class\": \"Dry river bed\",\r\n",
        "              \"system:index\": \"2\"\r\n",
        "            }),\r\n",
        "        ee.Feature(\r\n",
        "            ee.Geometry.Point([90.95252177144829, 26.703611376662145]),\r\n",
        "            {\r\n",
        "              \"class\": \"Dry river bed\",\r\n",
        "              \"system:index\": \"3\"\r\n",
        "            }),\r\n",
        "        ee.Feature(\r\n",
        "            ee.Geometry.Point([90.92436930562798, 26.71009033553118]),\r\n",
        "            {\r\n",
        "              \"class\": \"Dry river bed\",\r\n",
        "              \"system:index\": \"4\"\r\n",
        "            }),\r\n",
        "        ee.Feature(\r\n",
        "            ee.Geometry.Point([90.91574332143608, 26.691035777533756]),\r\n",
        "            {\r\n",
        "              \"class\": \"Dry river bed\",\r\n",
        "              \"system:index\": \"5\"\r\n",
        "            }),\r\n",
        "        ee.Feature(\r\n",
        "            ee.Geometry.Point([91.22661218931935, 26.773018331221962]),\r\n",
        "            {\r\n",
        "              \"class\": \"Dry river bed\",\r\n",
        "              \"system:index\": \"6\"\r\n",
        "            }),\r\n",
        "        ee.Feature(\r\n",
        "            ee.Geometry.Point([91.20047345374232, 26.77678705224535]),\r\n",
        "            {\r\n",
        "              \"class\": \"Dry river bed\",\r\n",
        "              \"system:index\": \"7\"\r\n",
        "            }),\r\n",
        "        ee.Feature(\r\n",
        "            ee.Geometry.Point([91.13175377810566, 26.7825129618336]),\r\n",
        "            {\r\n",
        "              \"class\": \"Dry river bed\",\r\n",
        "              \"system:index\": \"8\"\r\n",
        "            }),\r\n",
        "        ee.Feature(\r\n",
        "            ee.Geometry.Point([91.15449891055195, 26.785539532470434]),\r\n",
        "            {\r\n",
        "              \"class\": \"Dry river bed\",\r\n",
        "              \"system:index\": \"9\"\r\n",
        "            }),\r\n",
        "        ee.Feature(\r\n",
        "            ee.Geometry.Point([91.09807698821152, 26.754099312113876]),\r\n",
        "            {\r\n",
        "              \"class\": \"Dry river bed\",\r\n",
        "              \"system:index\": \"10\"\r\n",
        "            }),\r\n",
        "        ee.Feature(\r\n",
        "            ee.Geometry.Point([91.10462157820785, 26.74898332790459]),\r\n",
        "            {\r\n",
        "              \"class\": \"Dry river bed\",\r\n",
        "              \"system:index\": \"11\"\r\n",
        "            })])\r\n",
        "table2 = ee.FeatureCollection(\"users/defendersofwildlifeGIS/Manas/WWF_groundtruth_20Dec\")\r\n",
        "ag = ee.FeatureCollection(\r\n",
        "        [ee.Feature(\r\n",
        "            ee.Geometry.Point([91.18078623464676, 26.749444432737576]),\r\n",
        "            {\r\n",
        "              \"class\": \"Agriculture\",\r\n",
        "              \"system:index\": \"0\"\r\n",
        "            }),\r\n",
        "        ee.Feature(\r\n",
        "            ee.Geometry.Point([91.15618707005231, 26.739280869175335]),\r\n",
        "            {\r\n",
        "              \"class\": \"Agriculture\",\r\n",
        "              \"system:index\": \"1\"\r\n",
        "            }),\r\n",
        "        ee.Feature(\r\n",
        "            ee.Geometry.Point([91.150908482711, 26.72737998889601]),\r\n",
        "            {\r\n",
        "              \"class\": \"Agriculture\",\r\n",
        "              \"system:index\": \"2\"\r\n",
        "            }),\r\n",
        "        ee.Feature(\r\n",
        "            ee.Geometry.Point([90.70278475804807, 26.64348089177791]),\r\n",
        "            {\r\n",
        "              \"class\": \"Agriculture\",\r\n",
        "              \"system:index\": \"3\"\r\n",
        "            }),\r\n",
        "        ee.Feature(\r\n",
        "            ee.Geometry.Point([90.69175551457883, 26.642368494404526]),\r\n",
        "            {\r\n",
        "              \"class\": \"Agriculture\",\r\n",
        "              \"system:index\": \"4\"\r\n",
        "            }),\r\n",
        "        ee.Feature(\r\n",
        "            ee.Geometry.Point([90.67105341466294, 26.643900229785938]),\r\n",
        "            {\r\n",
        "              \"class\": \"Agriculture\",\r\n",
        "              \"system:index\": \"5\"\r\n",
        "            })])\r\n",
        "water18 = ee.FeatureCollection(\r\n",
        "        [ee.Feature(\r\n",
        "            ee.Geometry.Point([90.97494708705473, 26.691109242382723]),\r\n",
        "            {\r\n",
        "              \"class\": \"River / water\",\r\n",
        "              \"system:index\": \"0\"\r\n",
        "            }),\r\n",
        "        ee.Feature(\r\n",
        "            ee.Geometry.Point([90.98104106593657, 26.689805595626638]),\r\n",
        "            {\r\n",
        "              \"class\": \"River / water\",\r\n",
        "              \"system:index\": \"1\"\r\n",
        "            }),\r\n",
        "        ee.Feature(\r\n",
        "            ee.Geometry.Point([90.91979278479336, 26.702994922529374]),\r\n",
        "            {\r\n",
        "              \"class\": \"River / water\",\r\n",
        "              \"system:index\": \"2\"\r\n",
        "            }),\r\n",
        "        ee.Feature(\r\n",
        "            ee.Geometry.Point([90.90849873485936, 26.670501353341628]),\r\n",
        "            {\r\n",
        "              \"class\": \"River / water\",\r\n",
        "              \"system:index\": \"3\"\r\n",
        "            }),\r\n",
        "        ee.Feature(\r\n",
        "            ee.Geometry.Point([90.96944991150664, 26.745068826682804]),\r\n",
        "            {\r\n",
        "              \"class\": \"River / water\",\r\n",
        "              \"system:index\": \"4\"\r\n",
        "            }),\r\n",
        "        ee.Feature(\r\n",
        "            ee.Geometry.Point([90.96430007019805, 26.750510727307564]),\r\n",
        "            {\r\n",
        "              \"class\": \"River / water\",\r\n",
        "              \"system:index\": \"5\"\r\n",
        "            }),\r\n",
        "        ee.Feature(\r\n",
        "            ee.Geometry.Point([90.97726050415801, 26.74844130283594]),\r\n",
        "            {\r\n",
        "              \"class\": \"River / water\",\r\n",
        "              \"system:index\": \"6\"\r\n",
        "            }),\r\n",
        "        ee.Feature(\r\n",
        "            ee.Geometry.Point([90.50219037384402, 26.767825335657918]),\r\n",
        "            {\r\n",
        "              \"class\": \"River / water\",\r\n",
        "              \"system:index\": \"7\"\r\n",
        "            }),\r\n",
        "        ee.Feature(\r\n",
        "            ee.Geometry.Point([90.50165393204104, 26.76939630077897]),\r\n",
        "            {\r\n",
        "              \"class\": \"River / water\",\r\n",
        "              \"system:index\": \"8\"\r\n",
        "            }),\r\n",
        "        ee.Feature(\r\n",
        "            ee.Geometry.Point([90.47875859588991, 26.771235451846966]),\r\n",
        "            {\r\n",
        "              \"class\": \"River / water\",\r\n",
        "              \"system:index\": \"9\"\r\n",
        "            }),\r\n",
        "        ee.Feature(\r\n",
        "            ee.Geometry.Point([90.4800889715613, 26.76872576954374]),\r\n",
        "            {\r\n",
        "              \"class\": \"River / water\",\r\n",
        "              \"system:index\": \"10\"\r\n",
        "            })])\r\n",
        "riverbed18 = ee.FeatureCollection(\r\n",
        "        [ee.Feature(\r\n",
        "            ee.Geometry.Point([90.97114883578062, 26.752481177948603]),\r\n",
        "            {\r\n",
        "              \"class\": \"\",\r\n",
        "              \"system:index\": \"0\"\r\n",
        "            }),\r\n",
        "        ee.Feature(\r\n",
        "            ee.Geometry.Point([90.96668563997984, 26.74347523058311]),\r\n",
        "            {\r\n",
        "              \"class\": \"\",\r\n",
        "              \"system:index\": \"1\"\r\n",
        "            }),\r\n",
        "        ee.Feature(\r\n",
        "            ee.Geometry.Point([90.97792946017027, 26.746119604008214]),\r\n",
        "            {\r\n",
        "              \"class\": \"\",\r\n",
        "              \"system:index\": \"2\"\r\n",
        "            }),\r\n",
        "        ee.Feature(\r\n",
        "            ee.Geometry.Point([90.47827155544087, 26.708348861469013]),\r\n",
        "            {\r\n",
        "              \"class\": \"\",\r\n",
        "              \"system:index\": \"3\"\r\n",
        "            }),\r\n",
        "        ee.Feature(\r\n",
        "            ee.Geometry.Point([90.48071773006245, 26.702751590476392]),\r\n",
        "            {\r\n",
        "              \"class\": \"\",\r\n",
        "              \"system:index\": \"4\"\r\n",
        "            }),\r\n",
        "        ee.Feature(\r\n",
        "            ee.Geometry.Point([90.47851312565369, 26.792206312591436]),\r\n",
        "            {\r\n",
        "              \"class\": \"\",\r\n",
        "              \"system:index\": \"5\"\r\n",
        "            }),\r\n",
        "        ee.Feature(\r\n",
        "            ee.Geometry.Point([90.49301851200623, 26.796343529168023]),\r\n",
        "            {\r\n",
        "              \"class\": \"Dry river bed\",\r\n",
        "              \"system:index\": \"6\"\r\n",
        "            })])"
      ],
      "execution_count": null,
      "outputs": []
    },
    {
      "cell_type": "code",
      "metadata": {
        "id": "hEGhlS-D0GDG",
        "colab": {
          "base_uri": "https://localhost:8080/"
        },
        "outputId": "b6ec7751-f364-47af-d9e4-9c8f22446743"
      },
      "source": [
        "data = table.merge(table2).filter(ee.Filter.inList('class', ['Settlement', 'Savanna with invasives', 'River / water', 'Dry river bed']).Not()).merge(riverbed19).merge(water19).merge(ag)\r\n",
        "data18 = water18.merge(riverbed18).merge(ag)\r\n",
        "\r\n",
        "classes = data.aggregate_array('class').distinct().getInfo()\r\n",
        "print(classes)\r\n",
        "\r\n",
        "training = ee.FeatureCollection([])\r\n",
        "for cls in classes:\r\n",
        "  i = classes.index(cls)\r\n",
        "  subset = data.filterMetadata('class', 'equals', cls).map(lambda ft: ft.set('class_num', i))\r\n",
        "  training = training.merge(subset)\r\n",
        "\r\n",
        "training18 = ee.FeatureCollection([])\r\n",
        "for cls in classes:\r\n",
        "  i = classes.index(cls)\r\n",
        "  subset = data18.filterMetadata('class', 'equals', cls).map(lambda ft: ft.set('class_num', i))\r\n",
        "  training18 = training18.merge(subset)\r\n",
        "\r\n",
        "print(training.first().getInfo())"
      ],
      "execution_count": null,
      "outputs": [
        {
          "output_type": "stream",
          "text": [
            "['Wetland', 'Agriculture', 'Swamp_areas', 'Degraded / fallow land', 'Grassland with invasives', 'Eastern_Wet_alluvial_grasslands', 'Lower_alluvial_savannah_woodlands', 'Grassland with woodland succession', 'Sub tropical semi evergreen forests', 'Sub tropical mixed moist deciduous forests', 'Dry river bed', 'River / water']\n",
            "{'type': 'Feature', 'geometry': {'type': 'Point', 'coordinates': [91.07670999999999, 26.682949999999998]}, 'id': '1_1_1_1_1_1_1_1_1_1_1_2_1_1_1_1_00000000000000000055', 'properties': {'class': 'Wetland', 'class_num': 0}}\n"
          ],
          "name": "stdout"
        }
      ]
    },
    {
      "cell_type": "markdown",
      "metadata": {
        "id": "lXxqCPV6GTSu"
      },
      "source": [
        "### Image creation"
      ]
    },
    {
      "cell_type": "code",
      "metadata": {
        "id": "hKpQHX3x3Fdt"
      },
      "source": [
        "def basicQA(img):\r\n",
        "  qa = img.select('QA60').int16()\r\n",
        "  \r\n",
        "  # Bits 10 and 11 are clouds and cirrus, respectively.\r\n",
        "  cloudBitMask = 2**10\r\n",
        "  cirrusBitMask = 2**11\r\n",
        "  \r\n",
        "  # Both flags should be set to zero, indicating clear conditions.\r\n",
        "  mask = qa.bitwiseAnd(cloudBitMask).eq(0).And(\r\n",
        "             qa.bitwiseAnd(cirrusBitMask).eq(0))\r\n",
        "  dated = img.updateMask(mask)\r\n",
        "  return dated\r\n",
        "\r\n",
        "\r\n",
        "def add_NDVI(img):\r\n",
        "  ndvi = img.normalizedDifference(['B8', 'B4']).rename('ndvi')\r\n",
        "  return img.addBands(ndvi)\r\n",
        "\r\n",
        "end = '2020-11-30'\r\n",
        "\r\n",
        "start = '2015-11-30'\r\n",
        "\r\n",
        "s2Bands = ee.List(bands)\r\n",
        "\r\n",
        "collection = S2.filterBounds(boundary).filterDate(start, end)\r\n",
        "varsCollection = collection.map(basicQA).select(s2Bands).map(add_NDVI);\r\n",
        "\r\n",
        "winter19 = varsCollection.filterDate('2019-12-01', '2020-02-28').select(s2Bands.add('ndvi')).qualityMosaic('ndvi')\r\n",
        "summer19 = varsCollection.filterDate('2020-03-01', '2020-05-31').select(s2Bands.add('ndvi')).qualityMosaic('ndvi')\r\n",
        "monsoon19 = varsCollection.filterDate('2020-06-01', '2020-09-30').select(s2Bands.add('ndvi')).qualityMosaic('ndvi')\r\n",
        "postmonsoon19 = varsCollection.filterDate('2020-10-01', '2020-11-30').select(s2Bands.add('ndvi')).qualityMosaic('ndvi')\r\n",
        "\r\n",
        "seasons19 = ee.Image.cat([\r\n",
        "  winter19.select(s2Bands),\r\n",
        "  summer19.select(s2Bands),\r\n",
        "  monsoon19.select(s2Bands),\r\n",
        "  postmonsoon19.select(s2Bands)\r\n",
        "  ])\r\n",
        "\r\n",
        "winter18 = varsCollection.filterDate('2016-12-01', '2017-02-28').select(s2Bands.add('ndvi')).qualityMosaic('ndvi')\r\n",
        "summer18 = varsCollection.filterDate('2016-03-01', '2016-05-31').select(s2Bands.add('ndvi')).qualityMosaic('ndvi')\r\n",
        "monsoon18 = varsCollection.filterDate('2016-06-01', '2016-09-30').select(s2Bands.add('ndvi')).qualityMosaic('ndvi')\r\n",
        "postmonsoon18 = varsCollection.filterDate('2016-10-01', '2016-11-30').select(s2Bands.add('ndvi')).qualityMosaic('ndvi')\r\n",
        "\r\n",
        "seasons18 = ee.Image.cat([\r\n",
        "  winter18.select(s2Bands),\r\n",
        "  summer18.select(s2Bands),\r\n",
        "  monsoon18.select(s2Bands),\r\n",
        "  postmonsoon18.select(s2Bands)\r\n",
        "  ])\r\n"
      ],
      "execution_count": null,
      "outputs": []
    },
    {
      "cell_type": "code",
      "metadata": {
        "id": "axpjzXYK39xj"
      },
      "source": [
        "features19 = seasons19.sampleRegions(\r\n",
        "  collection= training,\r\n",
        "  properties= ['class_num'],\r\n",
        "  scale= 10\r\n",
        ").randomColumn('random')\r\n",
        "\r\n",
        "features18 = seasons18.sampleRegions(\r\n",
        "    collection = training18,\r\n",
        "    properties = ['class_num'],\r\n",
        "    scale= 10\r\n",
        ").randomColumn('random')\r\n",
        "\r\n",
        "features = features19.merge(features18)\r\n",
        "\r\n",
        "eval = features.filter(ee.Filter.gte('random', 0.7))\r\n",
        "training = features.filter(ee.Filter.lt('random', 0.7))\r\n",
        "\r\n",
        "trainTask = ee.batch.Export.table.toCloudStorage(\r\n",
        "    collection= training,\r\n",
        "    description= 'WWWF_training_tfrecords',\r\n",
        "    bucket = 'cvod-203614-mlengine',\r\n",
        "    fileNamePrefix = 'landcover/data/training/WWF_tfrecords',\r\n",
        "    fileFormat = \"TFRecord\",\r\n",
        "    selectors= FEATURES\r\n",
        ")\r\n",
        "\r\n",
        "trainTask.start()\r\n",
        "\r\n",
        "evalTask = ee.batch.Export.table.toCloudStorage(\r\n",
        "    collection= eval,\r\n",
        "    description= 'WWF_eval_tfrecords',\r\n",
        "    bucket = 'cvod-203614-mlengine',\r\n",
        "    fileNamePrefix = 'landcover/data/eval/WWF_tfrecords',\r\n",
        "    selectors= FEATURES,\r\n",
        "    fileFormat = 'TFRecord'\r\n",
        ")\r\n",
        "\r\n",
        "evalTask.start()"
      ],
      "execution_count": null,
      "outputs": []
    },
    {
      "cell_type": "markdown",
      "metadata": {
        "id": "LwEil-bEGWS8"
      },
      "source": [
        "### Feature engineering\r\n",
        "We will use an unsupervised classification technique to generate additional training samples in each target class"
      ]
    },
    {
      "cell_type": "code",
      "metadata": {
        "id": "T9d36zB4GcZH",
        "colab": {
          "base_uri": "https://localhost:8080/"
        },
        "outputId": "3cb47fd2-d0c4-4d12-ffd5-156eb1b2ad93"
      },
      "source": [
        "# snic20 = ee.Algorithms.Image.Segmentation.SNIC(image = seasons19, size = 50)\r\n",
        "snic18 = ee.Algorithms.Image.Segmentation.SNIC(image = seasons18, size = 50)\r\n",
        "\r\n",
        "# # Add SNIC output cluster ids to imagery data\r\n",
        "# img_data = seasons19.addBands(snic20.select('clusters'))\r\n",
        "img_data = seasons18.addBands(snic18.select('clusters'))\r\n",
        "# # generate 3 points within each output cluster and add cluster ID\r\n",
        "\r\n",
        "random = img_data.stratifiedSample(\r\n",
        "  numPoints= 3,\r\n",
        "  classBand= 'clusters',\r\n",
        "  region= boundary,\r\n",
        "  seed= 9,\r\n",
        "  scale= 10,\r\n",
        "  tileScale= 12\r\n",
        ")\r\n",
        "\r\n",
        "# print(random.size().getInfo())\r\n",
        "\r\n",
        "# # Add the cluster membership to training features\r\n",
        "additionalTraining = snic18.select('clusters').sampleRegions(\r\n",
        "  collection = training,\r\n",
        "  properties = ['class_num'], \r\n",
        "  scale= 10,\r\n",
        "  tileScale = 12\r\n",
        ")\r\n",
        "\r\n",
        "# # Filter the new random points to those in clusters with existing training features\r\n",
        "clusters = additionalTraining.aggregate_array('clusters').distinct()\r\n",
        "# print(clusters.size().getInfo())\r\n",
        "new_features = random.filter(ee.Filter.inList('clusters', clusters))\r\n",
        "# print(new_features.size().getInfo())\r\n",
        "# assign class_num to new points based on the class of original point in cluster\r\n",
        "new = new_features.map(lambda ft: ft.set('class_num', ee.Feature(additionalTraining.filter(ee.Filter.eq('clusters', ft.get('clusters'))).first()).get('class_num')))\r\n",
        "# filter out water and dry river bed clusters\r\n",
        "new = new.filter(ee.Filter.lt('class_num', 10))\r\n",
        "print(new.size().getInfo())"
      ],
      "execution_count": null,
      "outputs": [
        {
          "output_type": "stream",
          "text": [
            "345\n"
          ],
          "name": "stdout"
        }
      ]
    },
    {
      "cell_type": "markdown",
      "metadata": {
        "id": "NFSad0DWpYUr"
      },
      "source": [
        "### Export training and evaluation data to GCS"
      ]
    },
    {
      "cell_type": "code",
      "metadata": {
        "colab": {
          "base_uri": "https://localhost:8080/"
        },
        "id": "FmcY6JoHt6NW",
        "outputId": "e42ba776-7c35-4166-fd3e-42d3091d63c4"
      },
      "source": [
        "print(new.first().getInfo())"
      ],
      "execution_count": null,
      "outputs": [
        {
          "output_type": "stream",
          "text": [
            "None\n"
          ],
          "name": "stdout"
        }
      ]
    },
    {
      "cell_type": "code",
      "metadata": {
        "id": "d5kbSwxrw5aQ"
      },
      "source": [
        "FEATURES"
      ],
      "execution_count": null,
      "outputs": []
    },
    {
      "cell_type": "code",
      "metadata": {
        "id": "jJuczY3RHqR4"
      },
      "source": [
        "# sample imagery at the new points\r\n",
        "# features = seasons19.sampleRegions(\r\n",
        "#   collection= new,\r\n",
        "#   properties= ['class_num'],\r\n",
        "#   scale= 10\r\n",
        "# ).randomColumn('random')\r\n",
        "new = new.randomColumn('random')\r\n",
        "eval = new.filter(ee.Filter.gt('random', 0.7))\r\n",
        "training = new.filter(ee.Filter.lte('random', 0.7))\r\n",
        "\r\n",
        "trainTask = ee.batch.Export.table.toCloudStorage(\r\n",
        "    collection= training,\r\n",
        "    description= 'supp_training18_tfrecords',\r\n",
        "    bucket = 'cvod-203614-mlengine',\r\n",
        "    fileNamePrefix = 'landcover/data/training/supp18_tfrecords',\r\n",
        "    fileFormat = \"TFRecord\",\r\n",
        "    selectors= FEATURES\r\n",
        ")\r\n",
        "\r\n",
        "trainTask.start()\r\n",
        "\r\n",
        "evalTask = ee.batch.Export.table.toCloudStorage(\r\n",
        "    collection= eval,\r\n",
        "    description= 'supp_eval18_tfrecords',\r\n",
        "    bucket = 'cvod-203614-mlengine',\r\n",
        "    fileNamePrefix = 'landcover/data/eval/supp18_tfrecords',\r\n",
        "    selectors= FEATURES,\r\n",
        "    fileFormat = 'TFRecord'\r\n",
        ")\r\n",
        "\r\n",
        "evalTask.start()"
      ],
      "execution_count": null,
      "outputs": []
    },
    {
      "cell_type": "markdown",
      "metadata": {
        "id": "GxWGhWfypbKL"
      },
      "source": [
        "## Model Training"
      ]
    },
    {
      "cell_type": "markdown",
      "metadata": {
        "id": "1yDy9ovUBT4Z"
      },
      "source": [
        "### Preprocessing"
      ]
    },
    {
      "cell_type": "code",
      "metadata": {
        "id": "zCKlLpgoQQR-"
      },
      "source": [
        "def rescale(img, axes = [2]):\r\n",
        "    \"\"\"\r\n",
        "    Standardize incoming image patch to [0,1] based on min and max values\r\n",
        "    \r\n",
        "    To standardize each pixel use axes = [2]\r\n",
        "    To standardize each channel use axes = [0, 1]\r\n",
        "    To standardize globally use axes = [0, 1, 2]\r\n",
        "    \r\n",
        "    Args:\r\n",
        "        img (tensor): 3D (H,W,C) image tensor\r\n",
        "        axes (list): axes along which to calculate min/max for rescaling\r\n",
        "    Return:\r\n",
        "        tensor: 3D tensor of same shape as input, with values [0,1]\r\n",
        "    \"\"\"\r\n",
        "    minimum = tf.math.reduce_min(img, axis = axes, keepdims = True)\r\n",
        "    maximum = tf.math.reduce_max(img, axis = axes, keepdims = True)\r\n",
        "    scaled = tf.divide(tf.subtract(img, minimum), tf.subtract(maximum, minimum))\r\n",
        "    return scaled\r\n",
        "\r\n",
        "def aug_color(img, label):\r\n",
        "    n_ch = tf.shape(img)[-1]\r\n",
        "    contra_adj = 0.05\r\n",
        "    bright_adj = 0.05\r\n",
        "\r\n",
        "    ch_mean = tf.math.reduce_mean(img, axis = (0), keepdims = True)\r\n",
        "    #ch_mean = np.mean(img, axis=(0, 1), keepdims=True).astype(np.float32)\r\n",
        "\r\n",
        "    contra_mul = tf.random.uniform(shape = (1, n_ch),\r\n",
        "                                   minval = 1-contra_adj,\r\n",
        "                                   maxval = 1+contra_adj)\r\n",
        "    # contra_mul = np.random.uniform(1 - contra_adj, 1 + contra_adj, (1, 1, n_ch)).astype(\r\n",
        "    #     np.float32\r\n",
        "    # )\r\n",
        "\r\n",
        "    bright_mul = tf.random.uniform(shape = (1, n_ch),\r\n",
        "                                   minval = 1 - bright_adj,\r\n",
        "                                   maxval = 1+bright_adj)\r\n",
        "    # bright_mul = np.random.uniform(1 - bright_adj, 1 + bright_adj, (1, 1, n_ch)).astype(\r\n",
        "    #     np.float32\r\n",
        "    # )\r\n",
        "\r\n",
        "    recolored = (img - ch_mean) * contra_mul + ch_mean * bright_mul\r\n",
        "    return recolored, label\r\n",
        "\r\n",
        "def aug_and_scale(img, labels):\r\n",
        "  augmented = aug_color(img)\r\n",
        "  # output is N x C\r\n",
        "  \r\n",
        "  return rescaled, labels\r\n",
        "\r\n",
        "def parse_tfrecord(example_proto):\r\n",
        "  \"\"\"The parsing function.\r\n",
        "  Read a serialized example into the structure defined by FEATURES_DICT.\r\n",
        "  Args:\r\n",
        "    example_proto: a serialized Example.\r\n",
        "  Returns: \r\n",
        "    A dictionary of tensors, keyed by feature name.\r\n",
        "  \"\"\"\r\n",
        "  parsed = tf.io.parse_single_example(example_proto, FEATURES_DICT)\r\n",
        "  return parsed\r\n",
        "\r\n",
        "def to_tuple(inputs):\r\n",
        "  \"\"\"Function to convert a dictionary of tensors to a tuple of (inputs, outputs).\r\n",
        "  Turn the tensors returned by parse_tfrecord into a stack in HWC shape.\r\n",
        "  Args:\r\n",
        "    inputs: A dictionary of tensors, keyed by feature name.\r\n",
        "  Returns: \r\n",
        "    A dtuple of (inputs, outputs).\r\n",
        "  \"\"\"\r\n",
        "  labels = inputs.pop(RESPONSE)\r\n",
        "  labels = tf.squeeze(tf.one_hot(tf.cast(labels, tf.uint8), depth = 12))\r\n",
        "\r\n",
        "  # we need this convoluted construct because of how we formed the band list\r\n",
        "  inputsList = [inputs.get(band + index) for index in ['', '_1', '_2', '_3'] for band in bands]\r\n",
        "  inputs = tf.concat(inputsList, axis = 0)\r\n",
        "  rescaled = tf.concat([rescale(inputs[i:i+6], 0) for i in [0,6,12,18]], axis = 0)\r\n",
        "  # # Convert from CHW to HWC\r\n",
        "  # stacked = tf.transpose(stacked, [1, 2, 0])\r\n",
        "  # # Perform image augmentation\r\n",
        "  # stacked = aug_img(stacked)\r\n",
        "  # # split input bands and labels\r\n",
        "  # bands = stacked[:,:,:len(BANDS)]\r\n",
        "  # labels = stacked[:,:,len(BANDS):]\r\n",
        "  # # do color augmentation on input features\r\n",
        "  # bands = aug_color(bands)\r\n",
        "  # # standardize each patch of bands\r\n",
        "  # bands = normalize(bands, [0, 1])\r\n",
        "  # # optionally, calculate ndvi and add to image\r\n",
        "  # if NDVI:\r\n",
        "  #   ndvi = tf.expand_dims(calc_ndvi(inputs), 2)\r\n",
        "  #   bands = tf.concat([bands, ndvi], axis = 2)\r\n",
        "    \r\n",
        "  return rescaled, labels \r\n",
        "\r\n",
        "def get_dataset(files):\r\n",
        "  \"\"\"Function to read, parse and format to tuple a set of input tfrecord files.\r\n",
        "  Get all the files matching the pattern, parse and convert to tuple.\r\n",
        "  Args:\r\n",
        "    files (list): A list of filenames storing tfrecords\r\n",
        "  Returns: \r\n",
        "    A tf.data.Dataset\r\n",
        "  \"\"\"\r\n",
        "  # glob = tf.io.gfile.glob(pattern)\r\n",
        "  dataset = tf.data.TFRecordDataset(files, compression_type='GZIP')\r\n",
        "  dataset = dataset.map(parse_tfrecord, num_parallel_calls=5)\r\n",
        "  dataset = dataset.map(to_tuple, num_parallel_calls=5)\r\n",
        "  return dataset"
      ],
      "execution_count": null,
      "outputs": []
    },
    {
      "cell_type": "code",
      "metadata": {
        "id": "XJZ-UFJDihdn"
      },
      "source": [
        "def get_training_dataset(files):\r\n",
        "  dataset = get_dataset(files)\r\n",
        "  dataset = dataset.shuffle(BUFFER).batch(BATCH)\r\n",
        "  dataset = dataset.map(aug_color).repeat()\r\n",
        "  return dataset\r\n",
        "\r\n",
        "def get_eval_dataset(files):\r\n",
        "  dataset = get_dataset(files)\r\n",
        "  dataset = dataset.batch(1)\r\n",
        "  return dataset"
      ],
      "execution_count": null,
      "outputs": []
    },
    {
      "cell_type": "code",
      "metadata": {
        "id": "rD78ykYSlluN"
      },
      "source": [
        "trainFiles = !gsutil ls gs://cvod-203614-mlengine/landcover/data/training/*_tfrecords.tfrecord.gz\r\n",
        "evalFiles = !gsutil ls gs://cvod-203614-mlengine/landcover/data/eval/*_tfrecords.tfrecord.gz\r\n",
        "evalFiles = [file for file in evalFiles if 'WWF' in file]\r\n",
        "trainFiles = [file for file in trainFiles if 'WWF' in file]\r\n",
        "training = get_training_dataset(trainFiles)\r\n",
        "evaluation = get_eval_dataset(evalFiles)"
      ],
      "execution_count": null,
      "outputs": []
    },
    {
      "cell_type": "code",
      "metadata": {
        "id": "F3sDrgOenDb7"
      },
      "source": [
        "evalFiles"
      ],
      "execution_count": null,
      "outputs": []
    },
    {
      "cell_type": "markdown",
      "metadata": {
        "id": "97oil1VktiWG"
      },
      "source": [
        "### Determine class weights"
      ]
    },
    {
      "cell_type": "code",
      "metadata": {
        "id": "3uEIhf4wpzhP"
      },
      "source": [
        "# get the labels from training data\r\n",
        "labels = []\r\n",
        "for x,y in iter(training):\r\n",
        "  labels.append(np.argmax(y, axis = 1))\r\n",
        "\r\n",
        "# get the counts per class (n)\r\n",
        "\r\n",
        "classes = np.concatenate(labels, axis = 0)\r\n",
        "# n, bins, patches = plt.hist(classes, bins = 12)"
      ],
      "execution_count": null,
      "outputs": []
    },
    {
      "cell_type": "code",
      "metadata": {
        "id": "S0bHWxEMuRy2"
      },
      "source": [
        "global_weights = compute_class_weight('balanced', np.unique(classes), y = classes)"
      ],
      "execution_count": null,
      "outputs": []
    },
    {
      "cell_type": "markdown",
      "metadata": {
        "id": "ruskexK7BXz4"
      },
      "source": [
        "### Model"
      ]
    },
    {
      "cell_type": "code",
      "metadata": {
        "id": "3AXwKsixMtOL"
      },
      "source": [
        "from tensorflow.python.keras import layers\r\n",
        "from tensorflow.python.keras import losses\r\n",
        "from tensorflow.python.keras import models\r\n",
        "from tensorflow.python.keras import metrics\r\n",
        "from tensorflow.python.keras import optimizers\r\n",
        "from tensorflow.python.keras import initializers\r\n",
        "from tensorflow.python.keras import backend"
      ],
      "execution_count": null,
      "outputs": []
    },
    {
      "cell_type": "code",
      "metadata": {
        "id": "0al3cI_5yIFy"
      },
      "source": [
        "def gen_dice(y_true, y_pred, weights, eps=1e-6):\r\n",
        "\r\n",
        "    \"\"\"both tensors are [b, h, w, classes] and y_pred is in logit form\r\n",
        "\r\n",
        "\t\thttps://stackoverflow.com/questions/49012025/generalized-dice-loss-for-multi-class-segmentation-keras-implementation\r\n",
        "\r\n",
        "\t\tThis implementation will calculate class weights per batch - could alternatively substitute contants based on overall\r\n",
        "\t\ttraining dataset proportions\r\n",
        "\t\t\r\n",
        "\t\tParameters:\r\n",
        "\t\t\ty_true (array): 2D tensor of one-hot labels\r\n",
        "\t\t\ty_pred (array): 2D tensor of class predictions\r\n",
        "\t\t\teps (float): fixed weight to prevent division by zero\r\n",
        "\t\t\"\"\"\r\n",
        "\r\n",
        "    # global weights\r\n",
        "    # --------------\r\n",
        "    # y_pred = tf.nn.softmax(y_pred, axis = 1)\r\n",
        "    weights = tf.constant(weights, shape = (1, 12), dtype = tf.float32)\r\n",
        "\r\n",
        "    #[b, classes]\r\n",
        "    multed = (y_true * y_pred)\r\n",
        "    summed = (y_true + y_pred)\r\n",
        "\r\n",
        "    # [b]\r\n",
        "    numerators = tf.reduce_sum(weights*multed, axis=-1)\r\n",
        "    denom = tf.reduce_sum(weights*summed, axis=-1)\r\n",
        "    dices = 1. - 2. * numerators / denom\r\n",
        "    dices = tf.where(tf.math.is_finite(dices), dices, tf.zeros_like(dices))\r\n",
        "    return tf.reduce_mean(dices)"
      ],
      "execution_count": null,
      "outputs": []
    },
    {
      "cell_type": "code",
      "metadata": {
        "id": "awsIr8f878uE"
      },
      "source": [
        "test = iter(evaluation).next()\r\n",
        "pred = m.predict(test[0])\r\n",
        "true = test[1]"
      ],
      "execution_count": null,
      "outputs": []
    },
    {
      "cell_type": "code",
      "metadata": {
        "colab": {
          "base_uri": "https://localhost:8080/"
        },
        "id": "ELzLEZuX8Lca",
        "outputId": "099d6cfe-eef9-481a-92a5-089a59e9cd77"
      },
      "source": [
        "multed = true*pred\r\n",
        "summed = true + pred\r\n",
        "numerators = np.sum(global_weights*multed, axis = -1)\r\n",
        "denom = np.sum(global_weights*summed, axis = -1)\r\n",
        "dices = 1. - 2. * numerators/denom\r\n",
        "dices"
      ],
      "execution_count": null,
      "outputs": [
        {
          "output_type": "execute_result",
          "data": {
            "text/plain": [
              "array([0.09977388], dtype=float32)"
            ]
          },
          "metadata": {
            "tags": []
          },
          "execution_count": 37
        }
      ]
    },
    {
      "cell_type": "code",
      "metadata": {
        "id": "8mSDPqqqBGnd",
        "colab": {
          "base_uri": "https://localhost:8080/"
        },
        "outputId": "4630672d-4ddd-4d71-e4a8-f17b7ec1a6af"
      },
      "source": [
        "gen_dice(true, pred, global_weights)"
      ],
      "execution_count": null,
      "outputs": [
        {
          "output_type": "execute_result",
          "data": {
            "text/plain": [
              "<tf.Tensor: shape=(), dtype=float32, numpy=0.099773884>"
            ]
          },
          "metadata": {
            "tags": []
          },
          "execution_count": 32
        }
      ]
    },
    {
      "cell_type": "code",
      "metadata": {
        "id": "sTK4IZe4eOTu"
      },
      "source": [
        "LOSS = losses.categorical_crossentropy\r\n",
        "METRICS = [tf.keras.metrics.categorical_accuracy]\r\n",
        "OPTIMIZER = tf.keras.optimizers.Adam(learning_rate=0.0005, beta_1=0.9, beta_2=0.999)\r\n",
        "\r\n",
        "def make_model(weights = None):\r\n",
        "  def get_gen_dice(y_true, y_pred):\r\n",
        "    return gen_dice(y_true, y_pred, weights = weights, eps=1e-6)\r\n",
        "  \r\n",
        "  if weights is not None:\r\n",
        "\r\n",
        "    loss = get_gen_dice\r\n",
        "  \r\n",
        "  else:\r\n",
        "\r\n",
        "    loss = LOSS\r\n",
        "    \r\n",
        "  model = models.Sequential()\r\n",
        "\r\n",
        "  model.add(layers.Input(shape = len(FEATURES) - 1))\r\n",
        "\r\n",
        "  model.add(layers.Dense(24, activation = 'relu'))\r\n",
        "\r\n",
        "  model.add(layers.Dense(24, activation = 'relu'))\r\n",
        "\r\n",
        "  model.add(layers.Dense(12, activation = 'softmax'))\r\n",
        "\r\n",
        "  model.compile(optimizer = 'adam', loss = loss, metrics = METRICS)\r\n",
        "\r\n",
        "  return model\r\n",
        "\r\n"
      ],
      "execution_count": null,
      "outputs": []
    },
    {
      "cell_type": "code",
      "metadata": {
        "id": "qMzd2W9B-ioJ"
      },
      "source": [
        "checkpoint = tf.keras.callbacks.ModelCheckpoint(\r\n",
        "    filepath = '/content/MyDrive/MyDrive/Manas/best_weights2Feb21.hdf5',\r\n",
        "    monitor = 'val_categorical_accuracy',\r\n",
        "    save_best_only = True,\r\n",
        "    mode = 'max'\r\n",
        ")"
      ],
      "execution_count": null,
      "outputs": []
    },
    {
      "cell_type": "code",
      "metadata": {
        "id": "o28a-YTX-h_J"
      },
      "source": [
        "m = make_model(None)\r\n",
        "m.fit(\r\n",
        "    x = training,\r\n",
        "    epochs = 200,\r\n",
        "    steps_per_epoch = len(classes)//16,\r\n",
        "    validation_data = evaluation,\r\n",
        "    callbacks = [checkpoint]\r\n",
        ")"
      ],
      "execution_count": null,
      "outputs": []
    },
    {
      "cell_type": "code",
      "metadata": {
        "colab": {
          "base_uri": "https://localhost:8080/"
        },
        "id": "FbuJ00yGoW-j",
        "outputId": "6a389e87-fc5f-4d1e-abe9-35a8a27ff93a"
      },
      "source": [
        "m = make_model()\r\n",
        "m.load_weights('/content/MyDrive/MyDrive/Manas/best_weights.hdf5')\r\n",
        "# m.load_weights('/content/MyDrive/MyDrive/Manas/supp19/best_weights.hdf5')\r\n",
        "evaluated = m.evaluate(evaluation, verbose = 1)"
      ],
      "execution_count": null,
      "outputs": [
        {
          "output_type": "stream",
          "text": [
            "59/59 [==============================] - 0s 2ms/step - loss: 1.0957 - categorical_accuracy: 0.6873\n"
          ],
          "name": "stdout"
        }
      ]
    },
    {
      "cell_type": "code",
      "metadata": {
        "id": "tsMOe4j4G13S"
      },
      "source": [
        "checkpoint = tf.keras.callbacks.ModelCheckpoint(\r\n",
        "    filepath = '/content/MyDrive/MyDrive/Manas/best_weights2Feb21.hdf5',\r\n",
        "    monitor = 'val_categorical_accuracy',\r\n",
        "    save_best_only = True,\r\n",
        "    mode = 'max'\r\n",
        ")\r\n",
        "\r\n",
        "checkpoint.best = evaluated[1]"
      ],
      "execution_count": null,
      "outputs": []
    },
    {
      "cell_type": "code",
      "metadata": {
        "colab": {
          "base_uri": "https://localhost:8080/"
        },
        "id": "mddlPuPsrknc",
        "outputId": "64af564e-520e-4261-f81b-99ea68b7c130"
      },
      "source": [
        "m.fit(\r\n",
        "    x = training,\r\n",
        "    epochs = 100,\r\n",
        "    steps_per_epoch = len(classes)//16,\r\n",
        "    validation_data = evaluation,\r\n",
        "    callbacks = [checkpoint]\r\n",
        ")"
      ],
      "execution_count": null,
      "outputs": [
        {
          "output_type": "stream",
          "text": [
            "Epoch 1/100\n",
            "7/7 [==============================] - 1s 60ms/step - loss: 1.6016 - categorical_accuracy: 0.5804 - val_loss: 1.2779 - val_categorical_accuracy: 0.6441\n",
            "Epoch 2/100\n",
            "7/7 [==============================] - 0s 73ms/step - loss: 1.6405 - categorical_accuracy: 0.5676 - val_loss: 1.2943 - val_categorical_accuracy: 0.5932\n",
            "Epoch 3/100\n",
            "7/7 [==============================] - 0s 67ms/step - loss: 1.4272 - categorical_accuracy: 0.5946 - val_loss: 1.2823 - val_categorical_accuracy: 0.5932\n",
            "Epoch 4/100\n",
            "7/7 [==============================] - 0s 71ms/step - loss: 1.6835 - categorical_accuracy: 0.5495 - val_loss: 1.2431 - val_categorical_accuracy: 0.6102\n",
            "Epoch 5/100\n",
            "7/7 [==============================] - 0s 68ms/step - loss: 1.5253 - categorical_accuracy: 0.5586 - val_loss: 1.2226 - val_categorical_accuracy: 0.6102\n",
            "Epoch 6/100\n",
            "7/7 [==============================] - 0s 69ms/step - loss: 1.2413 - categorical_accuracy: 0.6036 - val_loss: 1.2247 - val_categorical_accuracy: 0.6102\n",
            "Epoch 7/100\n",
            "7/7 [==============================] - 0s 69ms/step - loss: 1.3764 - categorical_accuracy: 0.5766 - val_loss: 1.2393 - val_categorical_accuracy: 0.5763\n",
            "Epoch 8/100\n",
            "7/7 [==============================] - 0s 53ms/step - loss: 1.4053 - categorical_accuracy: 0.5495 - val_loss: 1.2445 - val_categorical_accuracy: 0.5932\n",
            "Epoch 9/100\n",
            "7/7 [==============================] - 0s 54ms/step - loss: 1.3749 - categorical_accuracy: 0.5714 - val_loss: 1.2230 - val_categorical_accuracy: 0.5932\n",
            "Epoch 10/100\n",
            "7/7 [==============================] - 0s 67ms/step - loss: 1.3214 - categorical_accuracy: 0.5676 - val_loss: 1.2082 - val_categorical_accuracy: 0.5932\n",
            "Epoch 11/100\n",
            "7/7 [==============================] - 0s 67ms/step - loss: 1.1469 - categorical_accuracy: 0.5766 - val_loss: 1.1971 - val_categorical_accuracy: 0.5932\n",
            "Epoch 12/100\n",
            "7/7 [==============================] - 0s 70ms/step - loss: 1.3170 - categorical_accuracy: 0.5946 - val_loss: 1.1876 - val_categorical_accuracy: 0.5932\n",
            "Epoch 13/100\n",
            "7/7 [==============================] - 0s 71ms/step - loss: 1.3720 - categorical_accuracy: 0.5676 - val_loss: 1.1927 - val_categorical_accuracy: 0.5932\n",
            "Epoch 14/100\n",
            "7/7 [==============================] - 0s 69ms/step - loss: 1.1958 - categorical_accuracy: 0.5495 - val_loss: 1.1893 - val_categorical_accuracy: 0.5932\n",
            "Epoch 15/100\n",
            "7/7 [==============================] - 0s 71ms/step - loss: 1.2148 - categorical_accuracy: 0.6126 - val_loss: 1.1777 - val_categorical_accuracy: 0.5932\n",
            "Epoch 16/100\n",
            "7/7 [==============================] - 0s 56ms/step - loss: 1.2661 - categorical_accuracy: 0.5676 - val_loss: 1.1619 - val_categorical_accuracy: 0.6102\n",
            "Epoch 17/100\n",
            "7/7 [==============================] - 0s 52ms/step - loss: 1.2596 - categorical_accuracy: 0.5536 - val_loss: 1.1551 - val_categorical_accuracy: 0.6102\n",
            "Epoch 18/100\n",
            "7/7 [==============================] - 0s 68ms/step - loss: 1.1695 - categorical_accuracy: 0.6577 - val_loss: 1.1628 - val_categorical_accuracy: 0.6102\n",
            "Epoch 19/100\n",
            "7/7 [==============================] - 0s 66ms/step - loss: 1.1086 - categorical_accuracy: 0.5856 - val_loss: 1.1634 - val_categorical_accuracy: 0.5763\n",
            "Epoch 20/100\n",
            "7/7 [==============================] - 0s 68ms/step - loss: 1.3741 - categorical_accuracy: 0.5405 - val_loss: 1.1729 - val_categorical_accuracy: 0.5932\n",
            "Epoch 21/100\n",
            "7/7 [==============================] - 0s 66ms/step - loss: 1.1213 - categorical_accuracy: 0.5495 - val_loss: 1.1656 - val_categorical_accuracy: 0.5932\n",
            "Epoch 22/100\n",
            "7/7 [==============================] - 0s 70ms/step - loss: 1.1389 - categorical_accuracy: 0.6126 - val_loss: 1.1553 - val_categorical_accuracy: 0.5932\n",
            "Epoch 23/100\n",
            "7/7 [==============================] - 0s 71ms/step - loss: 1.2061 - categorical_accuracy: 0.5676 - val_loss: 1.1515 - val_categorical_accuracy: 0.6102\n",
            "Epoch 24/100\n",
            "7/7 [==============================] - 0s 52ms/step - loss: 1.2274 - categorical_accuracy: 0.6036 - val_loss: 1.1616 - val_categorical_accuracy: 0.5932\n",
            "Epoch 25/100\n",
            "7/7 [==============================] - 0s 52ms/step - loss: 1.1572 - categorical_accuracy: 0.6161 - val_loss: 1.1652 - val_categorical_accuracy: 0.5932\n",
            "Epoch 26/100\n",
            "7/7 [==============================] - 0s 70ms/step - loss: 1.1861 - categorical_accuracy: 0.6396 - val_loss: 1.1696 - val_categorical_accuracy: 0.5932\n",
            "Epoch 27/100\n",
            "7/7 [==============================] - 0s 70ms/step - loss: 1.2372 - categorical_accuracy: 0.5676 - val_loss: 1.1607 - val_categorical_accuracy: 0.5932\n",
            "Epoch 28/100\n",
            "7/7 [==============================] - 0s 68ms/step - loss: 1.0396 - categorical_accuracy: 0.5946 - val_loss: 1.1665 - val_categorical_accuracy: 0.5932\n",
            "Epoch 29/100\n",
            "7/7 [==============================] - 0s 74ms/step - loss: 1.1642 - categorical_accuracy: 0.6036 - val_loss: 1.1696 - val_categorical_accuracy: 0.5932\n",
            "Epoch 30/100\n",
            "7/7 [==============================] - 0s 69ms/step - loss: 1.1163 - categorical_accuracy: 0.6216 - val_loss: 1.1672 - val_categorical_accuracy: 0.5932\n",
            "Epoch 31/100\n",
            "7/7 [==============================] - 0s 71ms/step - loss: 1.1617 - categorical_accuracy: 0.6306 - val_loss: 1.1640 - val_categorical_accuracy: 0.5593\n",
            "Epoch 32/100\n",
            "7/7 [==============================] - 0s 55ms/step - loss: 1.1315 - categorical_accuracy: 0.6486 - val_loss: 1.1760 - val_categorical_accuracy: 0.5932\n",
            "Epoch 33/100\n",
            "7/7 [==============================] - 0s 51ms/step - loss: 1.2011 - categorical_accuracy: 0.5982 - val_loss: 1.1819 - val_categorical_accuracy: 0.5763\n",
            "Epoch 34/100\n",
            "7/7 [==============================] - 0s 65ms/step - loss: 1.1024 - categorical_accuracy: 0.6126 - val_loss: 1.1687 - val_categorical_accuracy: 0.5593\n",
            "Epoch 35/100\n",
            "7/7 [==============================] - 0s 69ms/step - loss: 1.0777 - categorical_accuracy: 0.6396 - val_loss: 1.1680 - val_categorical_accuracy: 0.5763\n",
            "Epoch 36/100\n",
            "7/7 [==============================] - 0s 69ms/step - loss: 1.2464 - categorical_accuracy: 0.6216 - val_loss: 1.1706 - val_categorical_accuracy: 0.5763\n",
            "Epoch 37/100\n",
            "7/7 [==============================] - 0s 69ms/step - loss: 1.0518 - categorical_accuracy: 0.6396 - val_loss: 1.1819 - val_categorical_accuracy: 0.5932\n",
            "Epoch 38/100\n",
            "7/7 [==============================] - 0s 75ms/step - loss: 1.1757 - categorical_accuracy: 0.5946 - val_loss: 1.1846 - val_categorical_accuracy: 0.5763\n",
            "Epoch 39/100\n",
            "7/7 [==============================] - 0s 68ms/step - loss: 1.0198 - categorical_accuracy: 0.6667 - val_loss: 1.1884 - val_categorical_accuracy: 0.5763\n",
            "Epoch 40/100\n",
            "7/7 [==============================] - 0s 53ms/step - loss: 1.1280 - categorical_accuracy: 0.6126 - val_loss: 1.1982 - val_categorical_accuracy: 0.5932\n",
            "Epoch 41/100\n",
            "7/7 [==============================] - 0s 53ms/step - loss: 1.1016 - categorical_accuracy: 0.6429 - val_loss: 1.1985 - val_categorical_accuracy: 0.5763\n",
            "Epoch 42/100\n",
            "7/7 [==============================] - 0s 70ms/step - loss: 1.0151 - categorical_accuracy: 0.6306 - val_loss: 1.1764 - val_categorical_accuracy: 0.5593\n",
            "Epoch 43/100\n",
            "7/7 [==============================] - 0s 69ms/step - loss: 1.1947 - categorical_accuracy: 0.6216 - val_loss: 1.1844 - val_categorical_accuracy: 0.5593\n",
            "Epoch 44/100\n",
            "7/7 [==============================] - 0s 68ms/step - loss: 1.0219 - categorical_accuracy: 0.6937 - val_loss: 1.1819 - val_categorical_accuracy: 0.5763\n",
            "Epoch 45/100\n",
            "7/7 [==============================] - 0s 65ms/step - loss: 1.2872 - categorical_accuracy: 0.5586 - val_loss: 1.1687 - val_categorical_accuracy: 0.5424\n",
            "Epoch 46/100\n",
            "7/7 [==============================] - 1s 91ms/step - loss: 0.9473 - categorical_accuracy: 0.6757 - val_loss: 1.1759 - val_categorical_accuracy: 0.5593\n",
            "Epoch 47/100\n",
            "7/7 [==============================] - 0s 68ms/step - loss: 1.1474 - categorical_accuracy: 0.6216 - val_loss: 1.1946 - val_categorical_accuracy: 0.5593\n",
            "Epoch 48/100\n",
            "7/7 [==============================] - 0s 50ms/step - loss: 1.1180 - categorical_accuracy: 0.6396 - val_loss: 1.2254 - val_categorical_accuracy: 0.5932\n",
            "Epoch 49/100\n",
            "7/7 [==============================] - 0s 52ms/step - loss: 1.0344 - categorical_accuracy: 0.6429 - val_loss: 1.2121 - val_categorical_accuracy: 0.5763\n",
            "Epoch 50/100\n",
            "7/7 [==============================] - 0s 66ms/step - loss: 1.0449 - categorical_accuracy: 0.6667 - val_loss: 1.1902 - val_categorical_accuracy: 0.5593\n",
            "Epoch 51/100\n",
            "7/7 [==============================] - 0s 69ms/step - loss: 1.0885 - categorical_accuracy: 0.6577 - val_loss: 1.1873 - val_categorical_accuracy: 0.5424\n",
            "Epoch 52/100\n",
            "7/7 [==============================] - 0s 67ms/step - loss: 1.2036 - categorical_accuracy: 0.5676 - val_loss: 1.2193 - val_categorical_accuracy: 0.5932\n",
            "Epoch 53/100\n",
            "7/7 [==============================] - 0s 69ms/step - loss: 1.1385 - categorical_accuracy: 0.6577 - val_loss: 1.2127 - val_categorical_accuracy: 0.5932\n",
            "Epoch 54/100\n",
            "7/7 [==============================] - 0s 70ms/step - loss: 1.0919 - categorical_accuracy: 0.6126 - val_loss: 1.1970 - val_categorical_accuracy: 0.5763\n",
            "Epoch 55/100\n",
            "7/7 [==============================] - 0s 67ms/step - loss: 1.0564 - categorical_accuracy: 0.6396 - val_loss: 1.2029 - val_categorical_accuracy: 0.5593\n",
            "Epoch 56/100\n",
            "7/7 [==============================] - 0s 52ms/step - loss: 1.0330 - categorical_accuracy: 0.6667 - val_loss: 1.2126 - val_categorical_accuracy: 0.5932\n",
            "Epoch 57/100\n",
            "7/7 [==============================] - 0s 66ms/step - loss: 1.0967 - categorical_accuracy: 0.6518 - val_loss: 1.2108 - val_categorical_accuracy: 0.5763\n",
            "Epoch 58/100\n",
            "7/7 [==============================] - 0s 70ms/step - loss: 0.9982 - categorical_accuracy: 0.6396 - val_loss: 1.2082 - val_categorical_accuracy: 0.5593\n",
            "Epoch 59/100\n",
            "7/7 [==============================] - 0s 68ms/step - loss: 1.1330 - categorical_accuracy: 0.6216 - val_loss: 1.2174 - val_categorical_accuracy: 0.5932\n",
            "Epoch 60/100\n",
            "7/7 [==============================] - 0s 68ms/step - loss: 1.0058 - categorical_accuracy: 0.6847 - val_loss: 1.2260 - val_categorical_accuracy: 0.5763\n",
            "Epoch 61/100\n",
            "7/7 [==============================] - 0s 69ms/step - loss: 1.0156 - categorical_accuracy: 0.6396 - val_loss: 1.2205 - val_categorical_accuracy: 0.5763\n",
            "Epoch 62/100\n",
            "7/7 [==============================] - 0s 69ms/step - loss: 1.1271 - categorical_accuracy: 0.6126 - val_loss: 1.2336 - val_categorical_accuracy: 0.5763\n",
            "Epoch 63/100\n",
            "7/7 [==============================] - 0s 68ms/step - loss: 1.0098 - categorical_accuracy: 0.6667 - val_loss: 1.2401 - val_categorical_accuracy: 0.5763\n",
            "Epoch 64/100\n",
            "7/7 [==============================] - 0s 53ms/step - loss: 1.0546 - categorical_accuracy: 0.6757 - val_loss: 1.2372 - val_categorical_accuracy: 0.5763\n",
            "Epoch 65/100\n",
            "7/7 [==============================] - 0s 54ms/step - loss: 1.0591 - categorical_accuracy: 0.6250 - val_loss: 1.2433 - val_categorical_accuracy: 0.5763\n",
            "Epoch 66/100\n",
            "7/7 [==============================] - 0s 71ms/step - loss: 1.1031 - categorical_accuracy: 0.6396 - val_loss: 1.2228 - val_categorical_accuracy: 0.5593\n",
            "Epoch 67/100\n",
            "7/7 [==============================] - 0s 66ms/step - loss: 1.0249 - categorical_accuracy: 0.6126 - val_loss: 1.2224 - val_categorical_accuracy: 0.5424\n",
            "Epoch 68/100\n",
            "7/7 [==============================] - 0s 70ms/step - loss: 1.0841 - categorical_accuracy: 0.5946 - val_loss: 1.2290 - val_categorical_accuracy: 0.5424\n",
            "Epoch 69/100\n",
            "7/7 [==============================] - 0s 69ms/step - loss: 1.0235 - categorical_accuracy: 0.6486 - val_loss: 1.2220 - val_categorical_accuracy: 0.5424\n",
            "Epoch 70/100\n",
            "7/7 [==============================] - 0s 68ms/step - loss: 1.0762 - categorical_accuracy: 0.6306 - val_loss: 1.2307 - val_categorical_accuracy: 0.5424\n",
            "Epoch 71/100\n",
            "7/7 [==============================] - 0s 70ms/step - loss: 0.9191 - categorical_accuracy: 0.7207 - val_loss: 1.2413 - val_categorical_accuracy: 0.5593\n",
            "Epoch 72/100\n",
            "7/7 [==============================] - 0s 51ms/step - loss: 1.0472 - categorical_accuracy: 0.6667 - val_loss: 1.2441 - val_categorical_accuracy: 0.5424\n",
            "Epoch 73/100\n",
            "7/7 [==============================] - 0s 54ms/step - loss: 1.0091 - categorical_accuracy: 0.6696 - val_loss: 1.2594 - val_categorical_accuracy: 0.5593\n",
            "Epoch 74/100\n",
            "7/7 [==============================] - 0s 70ms/step - loss: 1.0591 - categorical_accuracy: 0.6396 - val_loss: 1.2436 - val_categorical_accuracy: 0.5424\n",
            "Epoch 75/100\n",
            "7/7 [==============================] - 0s 69ms/step - loss: 1.0093 - categorical_accuracy: 0.6486 - val_loss: 1.2411 - val_categorical_accuracy: 0.5254\n",
            "Epoch 76/100\n",
            "7/7 [==============================] - 0s 71ms/step - loss: 1.0551 - categorical_accuracy: 0.6577 - val_loss: 1.2447 - val_categorical_accuracy: 0.5254\n",
            "Epoch 77/100\n",
            "7/7 [==============================] - 0s 67ms/step - loss: 1.0617 - categorical_accuracy: 0.6306 - val_loss: 1.2525 - val_categorical_accuracy: 0.5763\n",
            "Epoch 78/100\n",
            "7/7 [==============================] - 0s 71ms/step - loss: 0.8664 - categorical_accuracy: 0.7117 - val_loss: 1.2475 - val_categorical_accuracy: 0.5254\n",
            "Epoch 79/100\n",
            "7/7 [==============================] - 0s 67ms/step - loss: 1.0838 - categorical_accuracy: 0.6036 - val_loss: 1.2509 - val_categorical_accuracy: 0.5254\n",
            "Epoch 80/100\n",
            "7/7 [==============================] - 0s 52ms/step - loss: 0.9964 - categorical_accuracy: 0.6757 - val_loss: 1.2616 - val_categorical_accuracy: 0.5424\n",
            "Epoch 81/100\n",
            "7/7 [==============================] - 0s 51ms/step - loss: 1.0410 - categorical_accuracy: 0.6339 - val_loss: 1.2719 - val_categorical_accuracy: 0.5593\n",
            "Epoch 82/100\n",
            "7/7 [==============================] - 0s 72ms/step - loss: 0.9950 - categorical_accuracy: 0.6577 - val_loss: 1.2677 - val_categorical_accuracy: 0.5254\n",
            "Epoch 83/100\n",
            "7/7 [==============================] - 0s 68ms/step - loss: 0.9194 - categorical_accuracy: 0.7027 - val_loss: 1.2697 - val_categorical_accuracy: 0.5254\n",
            "Epoch 84/100\n",
            "7/7 [==============================] - 0s 68ms/step - loss: 1.1030 - categorical_accuracy: 0.6486 - val_loss: 1.2689 - val_categorical_accuracy: 0.5254\n",
            "Epoch 85/100\n",
            "7/7 [==============================] - 0s 70ms/step - loss: 1.0356 - categorical_accuracy: 0.6757 - val_loss: 1.2697 - val_categorical_accuracy: 0.5424\n",
            "Epoch 86/100\n",
            "7/7 [==============================] - 0s 70ms/step - loss: 0.9051 - categorical_accuracy: 0.6937 - val_loss: 1.2743 - val_categorical_accuracy: 0.5424\n",
            "Epoch 87/100\n",
            "7/7 [==============================] - 0s 67ms/step - loss: 1.0166 - categorical_accuracy: 0.6126 - val_loss: 1.2868 - val_categorical_accuracy: 0.5424\n",
            "Epoch 88/100\n",
            "7/7 [==============================] - 0s 55ms/step - loss: 0.9702 - categorical_accuracy: 0.6937 - val_loss: 1.2838 - val_categorical_accuracy: 0.5254\n",
            "Epoch 89/100\n",
            "7/7 [==============================] - 0s 52ms/step - loss: 0.9574 - categorical_accuracy: 0.6875 - val_loss: 1.2797 - val_categorical_accuracy: 0.5424\n",
            "Epoch 90/100\n",
            "7/7 [==============================] - 0s 70ms/step - loss: 1.0321 - categorical_accuracy: 0.6667 - val_loss: 1.2799 - val_categorical_accuracy: 0.5254\n",
            "Epoch 91/100\n",
            "7/7 [==============================] - 0s 67ms/step - loss: 0.9540 - categorical_accuracy: 0.6757 - val_loss: 1.2867 - val_categorical_accuracy: 0.5085\n",
            "Epoch 92/100\n",
            "7/7 [==============================] - 0s 67ms/step - loss: 1.0805 - categorical_accuracy: 0.6216 - val_loss: 1.2826 - val_categorical_accuracy: 0.5424\n",
            "Epoch 93/100\n",
            "7/7 [==============================] - 0s 68ms/step - loss: 0.9752 - categorical_accuracy: 0.6757 - val_loss: 1.2808 - val_categorical_accuracy: 0.5424\n",
            "Epoch 94/100\n",
            "7/7 [==============================] - 0s 68ms/step - loss: 1.0232 - categorical_accuracy: 0.6396 - val_loss: 1.2719 - val_categorical_accuracy: 0.5424\n",
            "Epoch 95/100\n",
            "7/7 [==============================] - 0s 70ms/step - loss: 0.9006 - categorical_accuracy: 0.6847 - val_loss: 1.2688 - val_categorical_accuracy: 0.5085\n",
            "Epoch 96/100\n",
            "7/7 [==============================] - 0s 51ms/step - loss: 1.0124 - categorical_accuracy: 0.6577 - val_loss: 1.2853 - val_categorical_accuracy: 0.4915\n",
            "Epoch 97/100\n",
            "7/7 [==============================] - 1s 73ms/step - loss: 1.0024 - categorical_accuracy: 0.6607 - val_loss: 1.2962 - val_categorical_accuracy: 0.5254\n",
            "Epoch 98/100\n",
            "7/7 [==============================] - 0s 67ms/step - loss: 0.9393 - categorical_accuracy: 0.6667 - val_loss: 1.2946 - val_categorical_accuracy: 0.5085\n",
            "Epoch 99/100\n",
            "7/7 [==============================] - 0s 73ms/step - loss: 1.0141 - categorical_accuracy: 0.6396 - val_loss: 1.2992 - val_categorical_accuracy: 0.5424\n",
            "Epoch 100/100\n",
            "7/7 [==============================] - 0s 67ms/step - loss: 0.8651 - categorical_accuracy: 0.7117 - val_loss: 1.3023 - val_categorical_accuracy: 0.5254\n"
          ],
          "name": "stdout"
        },
        {
          "output_type": "execute_result",
          "data": {
            "text/plain": [
              "<tensorflow.python.keras.callbacks.History at 0x7f9f02d53160>"
            ]
          },
          "metadata": {
            "tags": []
          },
          "execution_count": 93
        }
      ]
    },
    {
      "cell_type": "markdown",
      "metadata": {
        "id": "LrvAdjxywlje"
      },
      "source": [
        "### Confusion Matrix"
      ]
    },
    {
      "cell_type": "code",
      "metadata": {
        "id": "kRLTyshlhh5_"
      },
      "source": [
        "def make_confusion_matrix_data(tpl, model, multiclass = False):\r\n",
        "  \"\"\"Create data needed to construct a confusion matrix on model predictions\r\n",
        "  Functions takes a tfrecord dataset consisting of input features and lables\r\n",
        "  and returns label and prediction vectors\r\n",
        "\r\n",
        "  Parameters:\r\n",
        "    dataset (tpl): features, labels tuple from tfDataset\r\n",
        "    model (keras Model): model used to make predictions\r\n",
        "    multiclass (bool): are labels multiclass or binary?\r\n",
        "\r\n",
        "  Returns:\r\n",
        "    tuple: 1D label and prediction arrays from the input datset\r\n",
        "  \"\"\"\r\n",
        "  preds = model.predict(tpl[0], verbose = 1)\r\n",
        "  labs = tpl[1]\r\n",
        "\r\n",
        "  if multiclass:\r\n",
        "    labs = np.argmax(labs, axis = -1)\r\n",
        "    preds = np.argmax(preds, axis = -1)\r\n",
        "\r\n",
        "  predictions = np.squeeze(preds).flatten()\r\n",
        "  \r\n",
        "  labels = np.squeeze(labs).flatten()\r\n",
        "  return labels, predictions"
      ],
      "execution_count": null,
      "outputs": []
    },
    {
      "cell_type": "code",
      "metadata": {
        "id": "Co4Smh1C73cQ"
      },
      "source": [
        "del con_mat"
      ],
      "execution_count": null,
      "outputs": []
    },
    {
      "cell_type": "code",
      "metadata": {
        "id": "ox6Ej1Cshk0N"
      },
      "source": [
        "eval = evaluation.unbatch().batch(1) # batch data\r\n",
        "iterator = iter(eval) # create a vector to iterate over so that you can call for loop on this object\r\n",
        "i = 0\r\n",
        "\r\n",
        "# while the iterator still has unread batches of data...\r\n",
        "while True:\r\n",
        "  # try to create a dataset from the current batch\r\n",
        "  try:\r\n",
        "    tpl = next(iterator)\r\n",
        "  # if the iterator is out of data, break loop\r\n",
        "  except StopIteration:\r\n",
        "    break\r\n",
        "  # else with no error...\r\n",
        "  else:\r\n",
        "    # make our confusion matrix data for current batch\r\n",
        "    labels, preds = make_confusion_matrix_data(tpl, m, True)\r\n",
        "\r\n",
        "    # create confusion matrix containing raw counts from current data\r\n",
        "    con_mat_current = tf.math.confusion_matrix(labels = labels, predictions = preds, num_classes = 12).numpy()\r\n",
        "    # get row sums\r\n",
        "    rowsums_current = con_mat_current.sum(axis = 1)\r\n",
        "    # if we're on the first batch\r\n",
        "    if i == 0:\r\n",
        "      con_mat = con_mat_current\r\n",
        "    else:\r\n",
        "      con_mat = con_mat + con_mat_current\r\n",
        "    i += 1\r\n",
        "    print(i)"
      ],
      "execution_count": null,
      "outputs": []
    },
    {
      "cell_type": "code",
      "metadata": {
        "id": "E5yKQKizhnLK"
      },
      "source": [
        "# # normalize the confusion matrix and round to 6 decimals\r\n",
        "# calculate sums per row (i.e. for each true class across all predicted classes)\r\n",
        "rowsums = con_mat.sum(axis = 1)\r\n",
        "classums = con_mat.sum(axis = 0)\r\n",
        "# broadcast the 1D row sums to 2D for proper division and use to normalize confusion matrix\r\n",
        "con_mat_norm = np.around(con_mat/rowsums[:, np.newaxis], decimals = 6)\r\n"
      ],
      "execution_count": null,
      "outputs": []
    },
    {
      "cell_type": "code",
      "metadata": {
        "colab": {
          "base_uri": "https://localhost:8080/"
        },
        "id": "Po3lwcDflUfr",
        "outputId": "e225db28-8071-4691-da76-37b4424ac2b5"
      },
      "source": [
        "con_mat_norm.shape"
      ],
      "execution_count": null,
      "outputs": [
        {
          "output_type": "execute_result",
          "data": {
            "text/plain": [
              "(12, 12)"
            ]
          },
          "metadata": {
            "tags": []
          },
          "execution_count": 48
        }
      ]
    },
    {
      "cell_type": "code",
      "metadata": {
        "id": "IrLFRsq9ho_1",
        "colab": {
          "base_uri": "https://localhost:8080/",
          "height": 407
        },
        "outputId": "7656dbda-64f0-49a1-9fb0-4d27bf529053"
      },
      "source": [
        "import pandas as pd\r\n",
        "con_mat_df = pd.DataFrame(con_mat_norm[0:12, 0:12],\r\n",
        "                     index = list(range(0,12,1)), \r\n",
        "                     columns = list(range(0,12,1)))\r\n",
        "\r\n",
        "con_mat_df"
      ],
      "execution_count": null,
      "outputs": [
        {
          "output_type": "execute_result",
          "data": {
            "text/html": [
              "<div>\n",
              "<style scoped>\n",
              "    .dataframe tbody tr th:only-of-type {\n",
              "        vertical-align: middle;\n",
              "    }\n",
              "\n",
              "    .dataframe tbody tr th {\n",
              "        vertical-align: top;\n",
              "    }\n",
              "\n",
              "    .dataframe thead th {\n",
              "        text-align: right;\n",
              "    }\n",
              "</style>\n",
              "<table border=\"1\" class=\"dataframe\">\n",
              "  <thead>\n",
              "    <tr style=\"text-align: right;\">\n",
              "      <th></th>\n",
              "      <th>0</th>\n",
              "      <th>1</th>\n",
              "      <th>2</th>\n",
              "      <th>3</th>\n",
              "      <th>4</th>\n",
              "      <th>5</th>\n",
              "      <th>6</th>\n",
              "      <th>7</th>\n",
              "      <th>8</th>\n",
              "      <th>9</th>\n",
              "      <th>10</th>\n",
              "      <th>11</th>\n",
              "    </tr>\n",
              "  </thead>\n",
              "  <tbody>\n",
              "    <tr>\n",
              "      <th>0</th>\n",
              "      <td>1.0</td>\n",
              "      <td>0.000000</td>\n",
              "      <td>0.0</td>\n",
              "      <td>0.0</td>\n",
              "      <td>0.000000</td>\n",
              "      <td>0.000</td>\n",
              "      <td>0.0</td>\n",
              "      <td>0.000</td>\n",
              "      <td>0.000</td>\n",
              "      <td>0.000</td>\n",
              "      <td>0.0</td>\n",
              "      <td>0.0</td>\n",
              "    </tr>\n",
              "    <tr>\n",
              "      <th>1</th>\n",
              "      <td>0.0</td>\n",
              "      <td>0.857143</td>\n",
              "      <td>0.0</td>\n",
              "      <td>0.0</td>\n",
              "      <td>0.142857</td>\n",
              "      <td>0.000</td>\n",
              "      <td>0.0</td>\n",
              "      <td>0.000</td>\n",
              "      <td>0.000</td>\n",
              "      <td>0.000</td>\n",
              "      <td>0.0</td>\n",
              "      <td>0.0</td>\n",
              "    </tr>\n",
              "    <tr>\n",
              "      <th>2</th>\n",
              "      <td>0.0</td>\n",
              "      <td>0.000000</td>\n",
              "      <td>1.0</td>\n",
              "      <td>0.0</td>\n",
              "      <td>0.000000</td>\n",
              "      <td>0.000</td>\n",
              "      <td>0.0</td>\n",
              "      <td>0.000</td>\n",
              "      <td>0.000</td>\n",
              "      <td>0.000</td>\n",
              "      <td>0.0</td>\n",
              "      <td>0.0</td>\n",
              "    </tr>\n",
              "    <tr>\n",
              "      <th>3</th>\n",
              "      <td>0.0</td>\n",
              "      <td>0.000000</td>\n",
              "      <td>0.0</td>\n",
              "      <td>0.5</td>\n",
              "      <td>0.250000</td>\n",
              "      <td>0.250</td>\n",
              "      <td>0.0</td>\n",
              "      <td>0.000</td>\n",
              "      <td>0.000</td>\n",
              "      <td>0.000</td>\n",
              "      <td>0.0</td>\n",
              "      <td>0.0</td>\n",
              "    </tr>\n",
              "    <tr>\n",
              "      <th>4</th>\n",
              "      <td>0.0</td>\n",
              "      <td>0.000000</td>\n",
              "      <td>0.0</td>\n",
              "      <td>0.0</td>\n",
              "      <td>0.250000</td>\n",
              "      <td>0.125</td>\n",
              "      <td>0.0</td>\n",
              "      <td>0.125</td>\n",
              "      <td>0.125</td>\n",
              "      <td>0.375</td>\n",
              "      <td>0.0</td>\n",
              "      <td>0.0</td>\n",
              "    </tr>\n",
              "    <tr>\n",
              "      <th>5</th>\n",
              "      <td>0.0</td>\n",
              "      <td>0.000000</td>\n",
              "      <td>0.0</td>\n",
              "      <td>0.0</td>\n",
              "      <td>0.000000</td>\n",
              "      <td>0.800</td>\n",
              "      <td>0.0</td>\n",
              "      <td>0.000</td>\n",
              "      <td>0.000</td>\n",
              "      <td>0.200</td>\n",
              "      <td>0.0</td>\n",
              "      <td>0.0</td>\n",
              "    </tr>\n",
              "    <tr>\n",
              "      <th>6</th>\n",
              "      <td>0.0</td>\n",
              "      <td>0.000000</td>\n",
              "      <td>0.0</td>\n",
              "      <td>0.0</td>\n",
              "      <td>0.000000</td>\n",
              "      <td>0.500</td>\n",
              "      <td>0.0</td>\n",
              "      <td>0.000</td>\n",
              "      <td>0.000</td>\n",
              "      <td>0.500</td>\n",
              "      <td>0.0</td>\n",
              "      <td>0.0</td>\n",
              "    </tr>\n",
              "    <tr>\n",
              "      <th>7</th>\n",
              "      <td>0.1</td>\n",
              "      <td>0.000000</td>\n",
              "      <td>0.0</td>\n",
              "      <td>0.0</td>\n",
              "      <td>0.200000</td>\n",
              "      <td>0.000</td>\n",
              "      <td>0.0</td>\n",
              "      <td>0.300</td>\n",
              "      <td>0.100</td>\n",
              "      <td>0.300</td>\n",
              "      <td>0.0</td>\n",
              "      <td>0.0</td>\n",
              "    </tr>\n",
              "    <tr>\n",
              "      <th>8</th>\n",
              "      <td>0.0</td>\n",
              "      <td>0.000000</td>\n",
              "      <td>0.0</td>\n",
              "      <td>0.0</td>\n",
              "      <td>0.000000</td>\n",
              "      <td>0.000</td>\n",
              "      <td>0.0</td>\n",
              "      <td>0.000</td>\n",
              "      <td>1.000</td>\n",
              "      <td>0.000</td>\n",
              "      <td>0.0</td>\n",
              "      <td>0.0</td>\n",
              "    </tr>\n",
              "    <tr>\n",
              "      <th>9</th>\n",
              "      <td>0.0</td>\n",
              "      <td>0.000000</td>\n",
              "      <td>0.0</td>\n",
              "      <td>0.0</td>\n",
              "      <td>0.000000</td>\n",
              "      <td>0.500</td>\n",
              "      <td>0.0</td>\n",
              "      <td>0.500</td>\n",
              "      <td>0.000</td>\n",
              "      <td>0.000</td>\n",
              "      <td>0.0</td>\n",
              "      <td>0.0</td>\n",
              "    </tr>\n",
              "    <tr>\n",
              "      <th>10</th>\n",
              "      <td>0.0</td>\n",
              "      <td>0.000000</td>\n",
              "      <td>0.0</td>\n",
              "      <td>0.0</td>\n",
              "      <td>0.000000</td>\n",
              "      <td>0.000</td>\n",
              "      <td>0.0</td>\n",
              "      <td>0.000</td>\n",
              "      <td>0.000</td>\n",
              "      <td>0.000</td>\n",
              "      <td>1.0</td>\n",
              "      <td>0.0</td>\n",
              "    </tr>\n",
              "    <tr>\n",
              "      <th>11</th>\n",
              "      <td>0.0</td>\n",
              "      <td>0.000000</td>\n",
              "      <td>0.0</td>\n",
              "      <td>0.0</td>\n",
              "      <td>0.000000</td>\n",
              "      <td>0.000</td>\n",
              "      <td>0.0</td>\n",
              "      <td>0.000</td>\n",
              "      <td>0.000</td>\n",
              "      <td>0.000</td>\n",
              "      <td>0.2</td>\n",
              "      <td>0.8</td>\n",
              "    </tr>\n",
              "  </tbody>\n",
              "</table>\n",
              "</div>"
            ],
            "text/plain": [
              "     0         1    2    3         4   ...     7      8      9    10   11\n",
              "0   1.0  0.000000  0.0  0.0  0.000000  ...  0.000  0.000  0.000  0.0  0.0\n",
              "1   0.0  0.857143  0.0  0.0  0.142857  ...  0.000  0.000  0.000  0.0  0.0\n",
              "2   0.0  0.000000  1.0  0.0  0.000000  ...  0.000  0.000  0.000  0.0  0.0\n",
              "3   0.0  0.000000  0.0  0.5  0.250000  ...  0.000  0.000  0.000  0.0  0.0\n",
              "4   0.0  0.000000  0.0  0.0  0.250000  ...  0.125  0.125  0.375  0.0  0.0\n",
              "5   0.0  0.000000  0.0  0.0  0.000000  ...  0.000  0.000  0.200  0.0  0.0\n",
              "6   0.0  0.000000  0.0  0.0  0.000000  ...  0.000  0.000  0.500  0.0  0.0\n",
              "7   0.1  0.000000  0.0  0.0  0.200000  ...  0.300  0.100  0.300  0.0  0.0\n",
              "8   0.0  0.000000  0.0  0.0  0.000000  ...  0.000  1.000  0.000  0.0  0.0\n",
              "9   0.0  0.000000  0.0  0.0  0.000000  ...  0.500  0.000  0.000  0.0  0.0\n",
              "10  0.0  0.000000  0.0  0.0  0.000000  ...  0.000  0.000  0.000  1.0  0.0\n",
              "11  0.0  0.000000  0.0  0.0  0.000000  ...  0.000  0.000  0.000  0.2  0.8\n",
              "\n",
              "[12 rows x 12 columns]"
            ]
          },
          "metadata": {
            "tags": []
          },
          "execution_count": 78
        }
      ]
    },
    {
      "cell_type": "code",
      "metadata": {
        "colab": {
          "base_uri": "https://localhost:8080/",
          "height": 887
        },
        "id": "HudxvEGAhrzg",
        "outputId": "7c3d2cea-9126-41d0-d92b-4318dc7458e6"
      },
      "source": [
        "from matplotlib import pyplot as plt\r\n",
        "import seaborn as sns\r\n",
        "labels = [\r\n",
        "          'Wetland',\r\n",
        "          'Agriculture',\r\n",
        "          'Swamp',\r\n",
        "          'Degraded',\r\n",
        "          'Grass w invasives',\r\n",
        "          'Alluvial grass',\r\n",
        "          'Savannah woodland',\r\n",
        "          'Grass w succession',\r\n",
        "          'Evergreen forest', \r\n",
        "          'Deciduous forest',\r\n",
        "          'Riverbed', \r\n",
        "          'Water'\r\n",
        "          ]\r\n",
        "figure = plt.figure(figsize=(12, 12))\r\n",
        "sns.heatmap(con_mat_df, annot=True,cmap=plt.cm.Blues,xticklabels = labels, yticklabels = labels)\r\n",
        "plt.tight_layout()\r\n",
        "plt.ylabel('True label')\r\n",
        "plt.xlabel('Predicted label')\r\n",
        "plt.show()"
      ],
      "execution_count": null,
      "outputs": [
        {
          "output_type": "display_data",
          "data": {
            "image/png": "[encoded data removed]",
            "text/plain": [
              "<Figure size 864x864 with 2 Axes>"
            ]
          },
          "metadata": {
            "tags": [],
            "needs_background": "light"
          }
        }
      ]
    },
    {
      "cell_type": "markdown",
      "metadata": {
        "id": "eorsh7CsJcOk"
      },
      "source": [
        "## Prediction"
      ]
    },
    {
      "cell_type": "code",
      "metadata": {
        "id": "xMvfBMhRKBzm"
      },
      "source": [
        "m = make_model()\r\n",
        "# m.load_weights('/content/MyDrive/MyDrive/Manas/best_weights.hdf5')\r\n",
        "m.load_weights('/content/MyDrive/MyDrive/Manas/supp19/best_weights.hdf5')"
      ],
      "execution_count": null,
      "outputs": []
    },
    {
      "cell_type": "markdown",
      "metadata": {
        "id": "gDs3AnwU1X4_"
      },
      "source": [
        "### Test images"
      ]
    },
    {
      "cell_type": "code",
      "metadata": {
        "id": "RAnwve2d1nSh"
      },
      "source": [
        "test1 = ee.Geometry.Polygon(\r\n",
        "        [[[90.94772981215188, 26.75883517946187],\r\n",
        "          [90.94772981215188, 26.693826699056437],\r\n",
        "          [91.05690644789406, 26.693826699056437],\r\n",
        "          [91.05690644789406, 26.75883517946187]]], None, False)"
      ],
      "execution_count": null,
      "outputs": []
    },
    {
      "cell_type": "code",
      "metadata": {
        "id": "pUyyF2ze1aN0"
      },
      "source": [
        "task = ee.batch.Export.image.toCloudStorage(\r\n",
        "  image= seasons18,\r\n",
        "  description= 'manas_test1_2018',\r\n",
        "  bucket= 'cvod-203614-mlengine',\r\n",
        "  fileNamePrefix= 'landcover/data/predict/test1/test1_2018',\r\n",
        "  scale= 10,\r\n",
        "  fileFormat= 'TFRecord',\r\n",
        "  region= test1,\r\n",
        "  formatOptions= {\r\n",
        "    'patchDimensions': [256, 256],\r\n",
        "    'maxFileSize': 104857600,\r\n",
        "    'compressed': True,\r\n",
        "  },\r\n",
        ")\r\n",
        "\r\n",
        "task.start()"
      ],
      "execution_count": null,
      "outputs": []
    },
    {
      "cell_type": "markdown",
      "metadata": {
        "id": "_rPx4fVodnrG"
      },
      "source": [
        "### Preprocessing"
      ]
    },
    {
      "cell_type": "code",
      "metadata": {
        "id": "JqYOiECqH5qr"
      },
      "source": [
        "def parse_image(example_proto):\r\n",
        "  columns = [tf.io.FixedLenFeature(shape = KERNEL_SHAPE, dtype = tf.int64) for ft in FEATURES[:-1]]\r\n",
        "  featuresDict = dict(zip(FEATURES[:-1], columns))\r\n",
        "  parsed_features = tf.io.parse_single_example(example_proto, featuresDict)\r\n",
        "  return parsed_features\r\n",
        "# This input function reads in the TFRecord files exported from an image.\r\n",
        "# Note that because the pixels are arranged in patches, we need some additional\r\n",
        "# code to reshape the tensors.\r\n",
        "def make_pred_dataset(fileNames):\r\n",
        "  \r\n",
        "  # Note that you can make one dataset from many files by specifying a list.\r\n",
        "  dataset = tf.data.TFRecordDataset(fileNames, compression_type='GZIP')\r\n",
        "  \r\n",
        "  dataset = dataset.map(parse_image, num_parallel_calls=5)\r\n",
        "  \r\n",
        "  def whatever(inputs):\r\n",
        "    inputsList = [inputs.get(band + index) for index in ['', '_1', '_2', '_3'] for band in bands]\r\n",
        "    inputs = tf.stack(inputsList, axis = 2)\r\n",
        "    rescaled = tf.concat([rescale(inputs[:,:,i:i+6], 2) for i in [0,6,12,18]], axis = 2)\r\n",
        "\r\n",
        "    return rescaled\r\n",
        "\r\n",
        "  dataset = dataset.map(whatever, num_parallel_calls = 5)\r\n",
        "\r\n",
        "  # Break our long tensors into many littler ones\r\n",
        "  dataset = dataset.flat_map(lambda features: tf.data.Dataset.from_tensor_slices(features))\r\n",
        "  dataset = dataset.flat_map(lambda features: tf.data.Dataset.from_tensor_slices(features))\r\n",
        "  \r\n",
        "  # Add additional features (NDVI).\r\n",
        "  # dataset = dataset.map(addServerFeatures)\r\n",
        "  \r\n",
        "  # Read in batches corresponding to patch size.\r\n",
        "  dataset = dataset.batch(PATCH_SIZE)\r\n",
        "\r\n",
        "  return dataset"
      ],
      "execution_count": null,
      "outputs": []
    },
    {
      "cell_type": "code",
      "metadata": {
        "id": "hkKj56cnLFcT"
      },
      "source": [
        "predFiles19 = !gsutil ls {'gs://cvod-203614-mlengine/landcover/data/predict/test1/*2019*'}\r\n",
        "predFile19 =  [file for file in predFiles19 if '.json' not in file ]\r\n",
        "jsonFile19 = [file for file in predFiles19 if '.json' in file][0]\r\n",
        "\r\n",
        "predFiles18 = !gsutil ls {'gs://cvod-203614-mlengine/landcover/data/predict/test1/*2018*'}\r\n",
        "predFile18 =  [file for file in predFiles18 if '.json' not in file ]\r\n",
        "jsonFile18 = [file for file in predFiles18 if '.json' in file][0]"
      ],
      "execution_count": null,
      "outputs": []
    },
    {
      "cell_type": "code",
      "metadata": {
        "id": "iLdFw3vBLN2y"
      },
      "source": [
        "pred_dataset19 = make_pred_dataset(predFile19)\r\n",
        "pred_dataset18 = make_pred_dataset(predFile18)"
      ],
      "execution_count": null,
      "outputs": []
    },
    {
      "cell_type": "code",
      "metadata": {
        "colab": {
          "base_uri": "https://localhost:8080/"
        },
        "id": "RS6eY9tVM_Mj",
        "outputId": "66b04d19-ca66-40cd-e8d1-18e8938b5372"
      },
      "source": [
        "iter(pred_dataset).next()"
      ],
      "execution_count": null,
      "outputs": [
        {
          "output_type": "execute_result",
          "data": {
            "text/plain": [
              "<tf.Tensor: shape=(65536, 24), dtype=float64, numpy=\n",
              "array([[0.23309426, 0.14651639, 0.        , ..., 1.        , 0.51141331,\n",
              "        0.08644973],\n",
              "       [0.20366886, 0.13311383, 0.        , ..., 1.        , 0.40532787,\n",
              "        0.04672131],\n",
              "       [0.20747296, 0.14552606, 0.        , ..., 1.        , 0.41485433,\n",
              "        0.04431678],\n",
              "       ...,\n",
              "       [0.26356589, 0.09856035, 0.03654485, ..., 1.        , 0.88361045,\n",
              "        0.02731591],\n",
              "       [0.29713604, 0.10023866, 0.06443914, ..., 1.        , 0.90430622,\n",
              "        0.04186603],\n",
              "       [0.22888617, 0.04895961, 0.        , ..., 0.90445168, 1.        ,\n",
              "        0.22149837]])>"
            ]
          },
          "metadata": {
            "tags": []
          },
          "execution_count": 75
        }
      ]
    },
    {
      "cell_type": "code",
      "metadata": {
        "id": "O_4KOEdhMLf9"
      },
      "source": [
        "def make_array_predictions(imageDataset, jsonFile):\r\n",
        "    \"\"\"Create a 3D array of prediction outputs from TFRecord dataset\r\n",
        "    \r\n",
        "    Given a set of TFRecords representing image patches on which to run model predictions,\r\n",
        "    and a json file specifying the spatial reference system and arrangement of patches,\r\n",
        "    this function writes predictions to a single, reconstructed numpy array of shape\r\n",
        "    (?,?,2). Dimension 2 holds class probabilities and most likely class.\r\n",
        "    \r\n",
        "    Parameters:\r\n",
        "        imageDataset (tf.Dataset): image patch tensors on which to run predictions\r\n",
        "        jsonFile (str): complete filepath to json file\r\n",
        "        kernel_buffer (tpl): pixels to trim from H, W, dimensions of each output patch\r\n",
        "    Return:\r\n",
        "        ndarray: 3D array of prediction outputs.\r\n",
        "    \"\"\"\r\n",
        "    # we need metadata from the json file to reconstruct prediction patches\r\n",
        "\r\n",
        "    # Load the contents of the mixer file to a JSON object.\r\n",
        "    jsonText = !gsutil cat {jsonFile}\r\n",
        "    # Get a single string w/ newlines from the IPython.utils.text.SList\r\n",
        "    mixer = json.loads(jsonText.nlstr)\r\n",
        "    print(mixer)\r\n",
        "    patches = mixer['totalPatches']\r\n",
        "    cols = mixer['patchesPerRow']\r\n",
        "    rows = patches//cols\r\n",
        "\r\n",
        "    # Perform inference.\r\n",
        "    print('Running predictions...')\r\n",
        "    predictions = m.predict(imageDataset, verbose=1)\r\n",
        "\r\n",
        "\r\n",
        "    x = 1\r\n",
        "    for patch in range(0, patches):\r\n",
        "      prediction = predictions[patch*PATCH_SIZE:(patch+1)*PATCH_SIZE, :]\r\n",
        "      predClass = np.expand_dims(np.argmax(prediction, axis = 1), axis = 1)\r\n",
        "      stacked = np.concatenate([prediction, predClass], axis = 1)\r\n",
        "      patch = np.reshape(stacked, newshape = (KERNEL_SIZE, KERNEL_SIZE, 13))\r\n",
        "    # for prediction in predictions:\r\n",
        "    #   print('Writing patch ' + str(x) + '...')\r\n",
        "    #   predPatch = np.argmax(prediction, axis = 1)\r\n",
        "    #   probPatch = np.max(prediction, axis = 2)\r\n",
        "    #   predPatch = predPatch[x_buffer:x_buffer+KERNEL_SIZE, y_buffer:y_buffer+KERNEL_SIZE]\r\n",
        "    #   probPatch = probPatch[x_buffer:x_buffer+KERNEL_SIZE, y_buffer:y_buffer+KERNEL_SIZE]\r\n",
        "    #   # stack probabilities and classes along channel dimension\r\n",
        "    #   patch = np.stack([predPatch, probPatch], axis = 2)\r\n",
        "\r\n",
        "      ## NOTE: Predictions come out with y as 0 dimension, x as 1 dimension\r\n",
        "      # if we're at the beginning of a row\r\n",
        "      if x%cols == 1:\r\n",
        "        row = patch\r\n",
        "      else:\r\n",
        "        row = np.append(row, patch, axis = 1)\r\n",
        "      # if we reached the end of a row start a new one\r\n",
        "      if x%cols == 0:\r\n",
        "        # for the first row, create single row rows object\r\n",
        "        if x <= cols:\r\n",
        "          rows = row\r\n",
        "        else:\r\n",
        "        # add current row to previous rows along y axis\r\n",
        "          rows = np.append(rows, row, axis = 0)\r\n",
        "      x += 1\r\n",
        "\r\n",
        "    return rows"
      ],
      "execution_count": null,
      "outputs": []
    },
    {
      "cell_type": "code",
      "metadata": {
        "colab": {
          "base_uri": "https://localhost:8080/"
        },
        "id": "zgZbLPoge__W",
        "outputId": "c20bc7a4-b920-4dd3-e6d2-658468976ef9"
      },
      "source": [
        "predArray19 = make_array_predictions(pred_dataset19, jsonFile19)\r\n",
        "predArray18 = make_array_predictions(pred_dataset18, jsonFile18)"
      ],
      "execution_count": null,
      "outputs": [
        {
          "output_type": "stream",
          "text": [
            "{'projection': {'crs': 'EPSG:4326', 'affine': {'doubleMatrix': [8.983152841195215e-05, 0.0, 90.94768515247065, 0.0, -8.983152841195215e-05, 26.758836020295483]}}, 'patchDimensions': [256, 256], 'patchesPerRow': 4, 'totalPatches': 8}\n",
            "Running predictions...\n",
            "8/8 [==============================] - 2s 120ms/step\n",
            "{'projection': {'crs': 'EPSG:4326', 'affine': {'doubleMatrix': [8.983152841195215e-05, 0.0, 90.94768515247065, 0.0, -8.983152841195215e-05, 26.758836020295483]}}, 'patchDimensions': [256, 256], 'patchesPerRow': 4, 'totalPatches': 8}\n",
            "Running predictions...\n",
            "8/8 [==============================] - 2s 119ms/step\n"
          ],
          "name": "stdout"
        }
      ]
    },
    {
      "cell_type": "code",
      "metadata": {
        "colab": {
          "base_uri": "https://localhost:8080/"
        },
        "id": "xff3YijtrrRJ",
        "outputId": "f64aa53f-e97b-4d59-8d0f-0852793fa97c"
      },
      "source": [
        "predArray.shape"
      ],
      "execution_count": null,
      "outputs": [
        {
          "output_type": "execute_result",
          "data": {
            "text/plain": [
              "(512, 1024, 13)"
            ]
          },
          "metadata": {
            "tags": []
          },
          "execution_count": 38
        }
      ]
    },
    {
      "cell_type": "code",
      "metadata": {
        "colab": {
          "base_uri": "https://localhost:8080/",
          "height": 236
        },
        "id": "Osgl8w9Cr4Hx",
        "outputId": "deb6c878-a935-4276-878f-a55181dbb4a1"
      },
      "source": [
        "# We can visualize the predictions here in the notebook\r\n",
        "from matplotlib import pyplot as plt\r\n",
        "from matplotlib import colors\r\n",
        "\r\n",
        "cmap = colors.ListedColormap(['#02bdc6', '#dac041', '#8500ff', '#9f591d', '#ff8d00', '#eaffce', '#d7ffc6', '#caff29', '#559733', '#77d448', '#c6c6c6', '#0008ff',])\r\n",
        "# prob = out_image[:, :, 1]\r\n",
        "cls = predArray19[:, :, 12]\r\n",
        "# colormap = \r\n",
        "\r\n",
        "plt.imshow(cls, norm = colors.BoundaryNorm([0,1,2,3,4,5,6,7,8,9,10,11,12], cmap.N), cmap = cmap)"
      ],
      "execution_count": null,
      "outputs": [
        {
          "output_type": "execute_result",
          "data": {
            "text/plain": [
              "<matplotlib.image.AxesImage at 0x7f9ef21c08d0>"
            ]
          },
          "metadata": {
            "tags": []
          },
          "execution_count": 87
        },
        {
          "output_type": "display_data",
          "data": {
            "image/png": "[encoded data removed]",
            "text/plain": [
              "<Figure size 432x288 with 1 Axes>"
            ]
          },
          "metadata": {
            "tags": [],
            "needs_background": "light"
          }
        }
      ]
    },
    {
      "cell_type": "code",
      "metadata": {
        "colab": {
          "base_uri": "https://localhost:8080/",
          "height": 236
        },
        "id": "t_9qKob63rXN",
        "outputId": "8025e519-7dc1-4095-e9a3-40c34e8d55dd"
      },
      "source": [
        "cls = predArray18[:, :, 12]\r\n",
        "plt.imshow(cls, norm = colors.BoundaryNorm([0,1,2,3,4,5,6,7,8,9,10,11,12], cmap.N), cmap = cmap)"
      ],
      "execution_count": null,
      "outputs": [
        {
          "output_type": "execute_result",
          "data": {
            "text/plain": [
              "<matplotlib.image.AxesImage at 0x7f9ef2119390>"
            ]
          },
          "metadata": {
            "tags": []
          },
          "execution_count": 88
        },
        {
          "output_type": "display_data",
          "data": {
            "image/png": "[encoded data removed]",
            "text/plain": [
              "<Figure size 432x288 with 1 Axes>"
            ]
          },
          "metadata": {
            "tags": [],
            "needs_background": "light"
          }
        }
      ]
    }
  ]
}